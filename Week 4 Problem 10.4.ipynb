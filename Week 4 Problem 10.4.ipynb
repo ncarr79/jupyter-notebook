{
 "cells": [
  {
   "cell_type": "code",
   "execution_count": 53,
   "id": "d75c339a",
   "metadata": {},
   "outputs": [
    {
     "ename": "NameError",
     "evalue": "name 'LogisticRegressionCV' is not defined",
     "output_type": "error",
     "traceback": [
      "\u001b[1;31m---------------------------------------------------------------------------\u001b[0m",
      "\u001b[1;31mNameError\u001b[0m                                 Traceback (most recent call last)",
      "Cell \u001b[1;32mIn[53], line 4\u001b[0m\n\u001b[0;32m      2\u001b[0m \u001b[38;5;28;01mimport\u001b[39;00m \u001b[38;5;21;01mpandas\u001b[39;00m \u001b[38;5;28;01mas\u001b[39;00m \u001b[38;5;21;01mpd\u001b[39;00m\n\u001b[0;32m      3\u001b[0m \u001b[38;5;28;01mfrom\u001b[39;00m \u001b[38;5;21;01msklearn\u001b[39;00m\u001b[38;5;21;01m.\u001b[39;00m\u001b[38;5;21;01mlinear_model\u001b[39;00m \u001b[38;5;28;01mimport\u001b[39;00m LogisticRegression\n\u001b[1;32m----> 4\u001b[0m LogisticRegressionCV\n\u001b[0;32m      5\u001b[0m \u001b[38;5;28;01mfrom\u001b[39;00m \u001b[38;5;21;01msklearn\u001b[39;00m\u001b[38;5;21;01m.\u001b[39;00m\u001b[38;5;21;01mmodel_selection\u001b[39;00m \u001b[38;5;28;01mimport\u001b[39;00m train_test_split\n\u001b[0;32m      6\u001b[0m \u001b[38;5;28;01mimport\u001b[39;00m \u001b[38;5;21;01mstatsmodels\u001b[39;00m\u001b[38;5;21;01m.\u001b[39;00m\u001b[38;5;21;01mapi\u001b[39;00m \u001b[38;5;28;01mas\u001b[39;00m \u001b[38;5;21;01msm\u001b[39;00m\n",
      "\u001b[1;31mNameError\u001b[0m: name 'LogisticRegressionCV' is not defined"
     ]
    }
   ],
   "source": [
    "import numpy as np\n",
    "import pandas as pd\n",
    "from sklearn.linear_model import LogisticRegression\n",
    "LogisticRegressionCV\n",
    "from sklearn.model_selection import train_test_split\n",
    "import statsmodels.api as sm\n",
    "from mord import LogisticIT\n",
    "import matplotlib.pylab as plt\n",
    "import seaborn as sns\n",
    "from dmba import classificationSummary\n",
    "gainsChart \n",
    "liftChart\n",
    "from dmba.metric import AIC_score\n"
   ]
  },
  {
   "cell_type": "code",
   "execution_count": 54,
   "id": "79dc7a76",
   "metadata": {},
   "outputs": [
    {
     "data": {
      "text/plain": [
       "Index(['Category', 'currency', 'sellerRating', 'Duration', 'endDay',\n",
       "       'ClosePrice', 'OpenPrice', 'Competitive?'],\n",
       "      dtype='object')"
      ]
     },
     "execution_count": 54,
     "metadata": {},
     "output_type": "execute_result"
    }
   ],
   "source": [
    "# load the data\n",
    "import dmba\n",
    "ebay_df = dmba.load_data('ebayAuctions.csv')\n",
    "ebay_df.columns"
   ]
  },
  {
   "cell_type": "code",
   "execution_count": 55,
   "id": "e75e415b",
   "metadata": {},
   "outputs": [
    {
     "data": {
      "text/plain": [
       "Index(['Category', 'currency', 'sellerRating', 'Duration', 'endDay',\n",
       "       'ClosePrice', 'OpenPrice', 'Competitive'],\n",
       "      dtype='object')"
      ]
     },
     "execution_count": 55,
     "metadata": {},
     "output_type": "execute_result"
    }
   ],
   "source": [
    "#prettify variable names\n",
    "ebay_df.columns = [c.replace('?', '') for c in ebay_df.columns]\n",
    "ebay_df.columns"
   ]
  },
  {
   "cell_type": "code",
   "execution_count": 56,
   "id": "82c2df03",
   "metadata": {},
   "outputs": [
    {
     "data": {
      "text/plain": [
       "Category         object\n",
       "currency         object\n",
       "sellerRating      int64\n",
       "Duration          int64\n",
       "endDay           object\n",
       "ClosePrice      float64\n",
       "OpenPrice       float64\n",
       "Competitive       int64\n",
       "dtype: object"
      ]
     },
     "execution_count": 56,
     "metadata": {},
     "output_type": "execute_result"
    }
   ],
   "source": [
    "# check the variable types\n",
    "ebay_df.dtypes"
   ]
  },
  {
   "cell_type": "code",
   "execution_count": 57,
   "id": "ca59f7fd",
   "metadata": {},
   "outputs": [
    {
     "data": {
      "text/html": [
       "<div>\n",
       "<style scoped>\n",
       "    .dataframe tbody tr th:only-of-type {\n",
       "        vertical-align: middle;\n",
       "    }\n",
       "\n",
       "    .dataframe tbody tr th {\n",
       "        vertical-align: top;\n",
       "    }\n",
       "\n",
       "    .dataframe thead tr th {\n",
       "        text-align: left;\n",
       "    }\n",
       "\n",
       "    .dataframe thead tr:last-of-type th {\n",
       "        text-align: right;\n",
       "    }\n",
       "</style>\n",
       "<table border=\"1\" class=\"dataframe\">\n",
       "  <thead>\n",
       "    <tr>\n",
       "      <th></th>\n",
       "      <th>mean</th>\n",
       "    </tr>\n",
       "    <tr>\n",
       "      <th></th>\n",
       "      <th>Competitive</th>\n",
       "    </tr>\n",
       "    <tr>\n",
       "      <th>Category</th>\n",
       "      <th></th>\n",
       "    </tr>\n",
       "  </thead>\n",
       "  <tbody>\n",
       "    <tr>\n",
       "      <th>Antique/Art/Craft</th>\n",
       "      <td>0.564972</td>\n",
       "    </tr>\n",
       "    <tr>\n",
       "      <th>Automotive</th>\n",
       "      <td>0.353933</td>\n",
       "    </tr>\n",
       "    <tr>\n",
       "      <th>Books</th>\n",
       "      <td>0.500000</td>\n",
       "    </tr>\n",
       "    <tr>\n",
       "      <th>Business/Industrial</th>\n",
       "      <td>0.666667</td>\n",
       "    </tr>\n",
       "    <tr>\n",
       "      <th>Clothing/Accessories</th>\n",
       "      <td>0.504202</td>\n",
       "    </tr>\n",
       "    <tr>\n",
       "      <th>Coins/Stamps</th>\n",
       "      <td>0.297297</td>\n",
       "    </tr>\n",
       "    <tr>\n",
       "      <th>Collectibles</th>\n",
       "      <td>0.577406</td>\n",
       "    </tr>\n",
       "    <tr>\n",
       "      <th>Computer</th>\n",
       "      <td>0.666667</td>\n",
       "    </tr>\n",
       "    <tr>\n",
       "      <th>Electronics</th>\n",
       "      <td>0.800000</td>\n",
       "    </tr>\n",
       "    <tr>\n",
       "      <th>EverythingElse</th>\n",
       "      <td>0.235294</td>\n",
       "    </tr>\n",
       "    <tr>\n",
       "      <th>Health/Beauty</th>\n",
       "      <td>0.171875</td>\n",
       "    </tr>\n",
       "    <tr>\n",
       "      <th>Home/Garden</th>\n",
       "      <td>0.656863</td>\n",
       "    </tr>\n",
       "    <tr>\n",
       "      <th>Jewelry</th>\n",
       "      <td>0.365854</td>\n",
       "    </tr>\n",
       "    <tr>\n",
       "      <th>Music/Movie/Game</th>\n",
       "      <td>0.602978</td>\n",
       "    </tr>\n",
       "    <tr>\n",
       "      <th>Photography</th>\n",
       "      <td>0.846154</td>\n",
       "    </tr>\n",
       "    <tr>\n",
       "      <th>Pottery/Glass</th>\n",
       "      <td>0.350000</td>\n",
       "    </tr>\n",
       "    <tr>\n",
       "      <th>SportingGoods</th>\n",
       "      <td>0.725806</td>\n",
       "    </tr>\n",
       "    <tr>\n",
       "      <th>Toys/Hobbies</th>\n",
       "      <td>0.529915</td>\n",
       "    </tr>\n",
       "  </tbody>\n",
       "</table>\n",
       "</div>"
      ],
      "text/plain": [
       "                            mean\n",
       "                     Competitive\n",
       "Category                        \n",
       "Antique/Art/Craft       0.564972\n",
       "Automotive              0.353933\n",
       "Books                   0.500000\n",
       "Business/Industrial     0.666667\n",
       "Clothing/Accessories    0.504202\n",
       "Coins/Stamps            0.297297\n",
       "Collectibles            0.577406\n",
       "Computer                0.666667\n",
       "Electronics             0.800000\n",
       "EverythingElse          0.235294\n",
       "Health/Beauty           0.171875\n",
       "Home/Garden             0.656863\n",
       "Jewelry                 0.365854\n",
       "Music/Movie/Game        0.602978\n",
       "Photography             0.846154\n",
       "Pottery/Glass           0.350000\n",
       "SportingGoods           0.725806\n",
       "Toys/Hobbies            0.529915"
      ]
     },
     "execution_count": 57,
     "metadata": {},
     "output_type": "execute_result"
    }
   ],
   "source": [
    "# pivot table of Competitive and Category\n",
    "pivot1 = pd.pivot_table(ebay_df, index= 'Category', values= \"Competitive\",\n",
    "                       aggfunc= [np.mean])\n",
    "pivot1\n"
   ]
  },
  {
   "cell_type": "code",
   "execution_count": 58,
   "id": "8fceac9e",
   "metadata": {},
   "outputs": [
    {
     "data": {
      "text/html": [
       "<div>\n",
       "<style scoped>\n",
       "    .dataframe tbody tr th:only-of-type {\n",
       "        vertical-align: middle;\n",
       "    }\n",
       "\n",
       "    .dataframe tbody tr th {\n",
       "        vertical-align: top;\n",
       "    }\n",
       "\n",
       "    .dataframe thead tr th {\n",
       "        text-align: left;\n",
       "    }\n",
       "\n",
       "    .dataframe thead tr:last-of-type th {\n",
       "        text-align: right;\n",
       "    }\n",
       "</style>\n",
       "<table border=\"1\" class=\"dataframe\">\n",
       "  <thead>\n",
       "    <tr>\n",
       "      <th></th>\n",
       "      <th>mean</th>\n",
       "    </tr>\n",
       "    <tr>\n",
       "      <th></th>\n",
       "      <th>Competitive</th>\n",
       "    </tr>\n",
       "    <tr>\n",
       "      <th>currency</th>\n",
       "      <th></th>\n",
       "    </tr>\n",
       "  </thead>\n",
       "  <tbody>\n",
       "    <tr>\n",
       "      <th>EUR</th>\n",
       "      <td>0.551595</td>\n",
       "    </tr>\n",
       "    <tr>\n",
       "      <th>GBP</th>\n",
       "      <td>0.687075</td>\n",
       "    </tr>\n",
       "    <tr>\n",
       "      <th>US</th>\n",
       "      <td>0.519350</td>\n",
       "    </tr>\n",
       "  </tbody>\n",
       "</table>\n",
       "</div>"
      ],
      "text/plain": [
       "                mean\n",
       "         Competitive\n",
       "currency            \n",
       "EUR         0.551595\n",
       "GBP         0.687075\n",
       "US          0.519350"
      ]
     },
     "execution_count": 58,
     "metadata": {},
     "output_type": "execute_result"
    }
   ],
   "source": [
    "# pivot table of Competitive and Category\n",
    "pivot2 = pd.pivot_table(ebay_df, index= 'currency', values=\"Competitive\",\n",
    "                       aggfunc= [np.mean])\n",
    "pivot2"
   ]
  },
  {
   "cell_type": "code",
   "execution_count": 59,
   "id": "abf63066",
   "metadata": {},
   "outputs": [
    {
     "data": {
      "text/html": [
       "<div>\n",
       "<style scoped>\n",
       "    .dataframe tbody tr th:only-of-type {\n",
       "        vertical-align: middle;\n",
       "    }\n",
       "\n",
       "    .dataframe tbody tr th {\n",
       "        vertical-align: top;\n",
       "    }\n",
       "\n",
       "    .dataframe thead tr th {\n",
       "        text-align: left;\n",
       "    }\n",
       "\n",
       "    .dataframe thead tr:last-of-type th {\n",
       "        text-align: right;\n",
       "    }\n",
       "</style>\n",
       "<table border=\"1\" class=\"dataframe\">\n",
       "  <thead>\n",
       "    <tr>\n",
       "      <th></th>\n",
       "      <th>mean</th>\n",
       "    </tr>\n",
       "    <tr>\n",
       "      <th></th>\n",
       "      <th>Competitive</th>\n",
       "    </tr>\n",
       "    <tr>\n",
       "      <th>endDay</th>\n",
       "      <th></th>\n",
       "    </tr>\n",
       "  </thead>\n",
       "  <tbody>\n",
       "    <tr>\n",
       "      <th>Fri</th>\n",
       "      <td>0.466899</td>\n",
       "    </tr>\n",
       "    <tr>\n",
       "      <th>Mon</th>\n",
       "      <td>0.673358</td>\n",
       "    </tr>\n",
       "    <tr>\n",
       "      <th>Sat</th>\n",
       "      <td>0.427350</td>\n",
       "    </tr>\n",
       "    <tr>\n",
       "      <th>Sun</th>\n",
       "      <td>0.485207</td>\n",
       "    </tr>\n",
       "    <tr>\n",
       "      <th>Thu</th>\n",
       "      <td>0.603960</td>\n",
       "    </tr>\n",
       "    <tr>\n",
       "      <th>Tue</th>\n",
       "      <td>0.532164</td>\n",
       "    </tr>\n",
       "    <tr>\n",
       "      <th>Wed</th>\n",
       "      <td>0.480000</td>\n",
       "    </tr>\n",
       "  </tbody>\n",
       "</table>\n",
       "</div>"
      ],
      "text/plain": [
       "              mean\n",
       "       Competitive\n",
       "endDay            \n",
       "Fri       0.466899\n",
       "Mon       0.673358\n",
       "Sat       0.427350\n",
       "Sun       0.485207\n",
       "Thu       0.603960\n",
       "Tue       0.532164\n",
       "Wed       0.480000"
      ]
     },
     "execution_count": 59,
     "metadata": {},
     "output_type": "execute_result"
    }
   ],
   "source": [
    "# pivot table of Competitive and Category\n",
    "pivot3 = pd.pivot_table(ebay_df, index= 'endDay', values= \"Competitive\",\n",
    "                       aggfunc= [np.mean])\n",
    "pivot3"
   ]
  },
  {
   "cell_type": "code",
   "execution_count": 60,
   "id": "fc75ea26",
   "metadata": {},
   "outputs": [],
   "source": [
    "ebay_df.loc[ebay_df.endDay == 'Sun', 'endDay'] = 'Sun_Fri'\n",
    "ebay_df.loc[ebay_df.endDay == 'Fri', 'endDay'] = 'Sun_Fri'\n",
    "\n",
    "ebay_df.loc[ebay_df.Category == \"Business/Industrial\", 'Category'] = 'Computer'\n",
    "ebay_df.loc[ebay_df.Category == \"Antique/Art/Craft\", 'Category'] = 'Collectibles'"
   ]
  },
  {
   "cell_type": "code",
   "execution_count": 61,
   "id": "34f3a385",
   "metadata": {},
   "outputs": [
    {
     "data": {
      "text/html": [
       "<div>\n",
       "<style scoped>\n",
       "    .dataframe tbody tr th:only-of-type {\n",
       "        vertical-align: middle;\n",
       "    }\n",
       "\n",
       "    .dataframe tbody tr th {\n",
       "        vertical-align: top;\n",
       "    }\n",
       "\n",
       "    .dataframe thead tr th {\n",
       "        text-align: left;\n",
       "    }\n",
       "\n",
       "    .dataframe thead tr:last-of-type th {\n",
       "        text-align: right;\n",
       "    }\n",
       "</style>\n",
       "<table border=\"1\" class=\"dataframe\">\n",
       "  <thead>\n",
       "    <tr>\n",
       "      <th></th>\n",
       "      <th>mean</th>\n",
       "    </tr>\n",
       "    <tr>\n",
       "      <th></th>\n",
       "      <th>Competitive</th>\n",
       "    </tr>\n",
       "    <tr>\n",
       "      <th>Category</th>\n",
       "      <th></th>\n",
       "    </tr>\n",
       "  </thead>\n",
       "  <tbody>\n",
       "    <tr>\n",
       "      <th>Automotive</th>\n",
       "      <td>0.353933</td>\n",
       "    </tr>\n",
       "    <tr>\n",
       "      <th>Books</th>\n",
       "      <td>0.500000</td>\n",
       "    </tr>\n",
       "    <tr>\n",
       "      <th>Clothing/Accessories</th>\n",
       "      <td>0.504202</td>\n",
       "    </tr>\n",
       "    <tr>\n",
       "      <th>Coins/Stamps</th>\n",
       "      <td>0.297297</td>\n",
       "    </tr>\n",
       "    <tr>\n",
       "      <th>Collectibles</th>\n",
       "      <td>0.572115</td>\n",
       "    </tr>\n",
       "    <tr>\n",
       "      <th>Computer</th>\n",
       "      <td>0.666667</td>\n",
       "    </tr>\n",
       "    <tr>\n",
       "      <th>Electronics</th>\n",
       "      <td>0.800000</td>\n",
       "    </tr>\n",
       "    <tr>\n",
       "      <th>EverythingElse</th>\n",
       "      <td>0.235294</td>\n",
       "    </tr>\n",
       "    <tr>\n",
       "      <th>Health/Beauty</th>\n",
       "      <td>0.171875</td>\n",
       "    </tr>\n",
       "    <tr>\n",
       "      <th>Home/Garden</th>\n",
       "      <td>0.656863</td>\n",
       "    </tr>\n",
       "    <tr>\n",
       "      <th>Jewelry</th>\n",
       "      <td>0.365854</td>\n",
       "    </tr>\n",
       "    <tr>\n",
       "      <th>Music/Movie/Game</th>\n",
       "      <td>0.602978</td>\n",
       "    </tr>\n",
       "    <tr>\n",
       "      <th>Photography</th>\n",
       "      <td>0.846154</td>\n",
       "    </tr>\n",
       "    <tr>\n",
       "      <th>Pottery/Glass</th>\n",
       "      <td>0.350000</td>\n",
       "    </tr>\n",
       "    <tr>\n",
       "      <th>SportingGoods</th>\n",
       "      <td>0.725806</td>\n",
       "    </tr>\n",
       "    <tr>\n",
       "      <th>Toys/Hobbies</th>\n",
       "      <td>0.529915</td>\n",
       "    </tr>\n",
       "  </tbody>\n",
       "</table>\n",
       "</div>"
      ],
      "text/plain": [
       "                            mean\n",
       "                     Competitive\n",
       "Category                        \n",
       "Automotive              0.353933\n",
       "Books                   0.500000\n",
       "Clothing/Accessories    0.504202\n",
       "Coins/Stamps            0.297297\n",
       "Collectibles            0.572115\n",
       "Computer                0.666667\n",
       "Electronics             0.800000\n",
       "EverythingElse          0.235294\n",
       "Health/Beauty           0.171875\n",
       "Home/Garden             0.656863\n",
       "Jewelry                 0.365854\n",
       "Music/Movie/Game        0.602978\n",
       "Photography             0.846154\n",
       "Pottery/Glass           0.350000\n",
       "SportingGoods           0.725806\n",
       "Toys/Hobbies            0.529915"
      ]
     },
     "execution_count": 61,
     "metadata": {},
     "output_type": "execute_result"
    }
   ],
   "source": [
    "# pivot table of Competitive and Category\n",
    "pivot1 = pd.pivot_table(ebay_df, index= 'Category', values= \"Competitive\",\n",
    "                       aggfunc= [np.mean])\n",
    "pivot1"
   ]
  },
  {
   "cell_type": "code",
   "execution_count": 62,
   "id": "1249a5d2",
   "metadata": {},
   "outputs": [
    {
     "data": {
      "text/html": [
       "<div>\n",
       "<style scoped>\n",
       "    .dataframe tbody tr th:only-of-type {\n",
       "        vertical-align: middle;\n",
       "    }\n",
       "\n",
       "    .dataframe tbody tr th {\n",
       "        vertical-align: top;\n",
       "    }\n",
       "\n",
       "    .dataframe thead tr th {\n",
       "        text-align: left;\n",
       "    }\n",
       "\n",
       "    .dataframe thead tr:last-of-type th {\n",
       "        text-align: right;\n",
       "    }\n",
       "</style>\n",
       "<table border=\"1\" class=\"dataframe\">\n",
       "  <thead>\n",
       "    <tr>\n",
       "      <th></th>\n",
       "      <th>mean</th>\n",
       "    </tr>\n",
       "    <tr>\n",
       "      <th></th>\n",
       "      <th>Competitive</th>\n",
       "    </tr>\n",
       "    <tr>\n",
       "      <th>endDay</th>\n",
       "      <th></th>\n",
       "    </tr>\n",
       "  </thead>\n",
       "  <tbody>\n",
       "    <tr>\n",
       "      <th>Mon</th>\n",
       "      <td>0.673358</td>\n",
       "    </tr>\n",
       "    <tr>\n",
       "      <th>Sat</th>\n",
       "      <td>0.427350</td>\n",
       "    </tr>\n",
       "    <tr>\n",
       "      <th>Sun_Fri</th>\n",
       "      <td>0.476800</td>\n",
       "    </tr>\n",
       "    <tr>\n",
       "      <th>Thu</th>\n",
       "      <td>0.603960</td>\n",
       "    </tr>\n",
       "    <tr>\n",
       "      <th>Tue</th>\n",
       "      <td>0.532164</td>\n",
       "    </tr>\n",
       "    <tr>\n",
       "      <th>Wed</th>\n",
       "      <td>0.480000</td>\n",
       "    </tr>\n",
       "  </tbody>\n",
       "</table>\n",
       "</div>"
      ],
      "text/plain": [
       "               mean\n",
       "        Competitive\n",
       "endDay             \n",
       "Mon        0.673358\n",
       "Sat        0.427350\n",
       "Sun_Fri    0.476800\n",
       "Thu        0.603960\n",
       "Tue        0.532164\n",
       "Wed        0.480000"
      ]
     },
     "execution_count": 62,
     "metadata": {},
     "output_type": "execute_result"
    }
   ],
   "source": [
    "# pivot table of Competitive and Category\n",
    "pivot3 = pd.pivot_table(ebay_df, index= 'endDay', values= \"Competitive\",\n",
    "                       aggfunc= [np.mean])\n",
    "pivot3"
   ]
  },
  {
   "cell_type": "code",
   "execution_count": 63,
   "id": "c1fefa0f",
   "metadata": {},
   "outputs": [],
   "source": [
    "#change variable types to appropriate ones\n",
    "ebay_df['Category'] = ebay_df['Category'].astype('category')\n",
    "ebay_df['currency'] = ebay_df['currency'].astype('category')\n",
    "ebay_df['endDay'] = ebay_df['endDay'].astype('category')\n",
    "\n",
    "#convert categorical variables into indicator and drop the first column of each of them\n",
    "ebay_df = pd.get_dummies(ebay_df, prefix_sep='_')\n",
    "ebay_df.drop(columns=['Category_Automotive', 'currency_EUR', 'endDay_Mon'], inplace=True)"
   ]
  },
  {
   "cell_type": "code",
   "execution_count": 64,
   "id": "4af7d128",
   "metadata": {},
   "outputs": [],
   "source": [
    "#predictor and response variables\n",
    "ebay_df['Competitive'] = ebay_df['Competitive'].astype('category')\n",
    "outcome = 'Competitive'\n",
    "predictors = list(ebay_df.columns)\n",
    "predictors.remove(outcome)\n",
    "y = ebay_df[outcome]\n",
    "X = ebay_df[predictors]"
   ]
  },
  {
   "cell_type": "code",
   "execution_count": 65,
   "id": "d8682e4c",
   "metadata": {},
   "outputs": [],
   "source": [
    "from sklearn.model_selection import train_test_split\n",
    "# split the data into training and validation sets\n",
    "X_train, X_valid, y_train, y_valid = train_test_split(X, y, test_size=0.40, random_state=202)"
   ]
  },
  {
   "cell_type": "code",
   "execution_count": 71,
   "id": "0a3287e6",
   "metadata": {
    "scrolled": true
   },
   "outputs": [
    {
     "data": {
      "text/html": [
       "<style>#sk-container-id-5 {color: black;}#sk-container-id-5 pre{padding: 0;}#sk-container-id-5 div.sk-toggleable {background-color: white;}#sk-container-id-5 label.sk-toggleable__label {cursor: pointer;display: block;width: 100%;margin-bottom: 0;padding: 0.3em;box-sizing: border-box;text-align: center;}#sk-container-id-5 label.sk-toggleable__label-arrow:before {content: \"▸\";float: left;margin-right: 0.25em;color: #696969;}#sk-container-id-5 label.sk-toggleable__label-arrow:hover:before {color: black;}#sk-container-id-5 div.sk-estimator:hover label.sk-toggleable__label-arrow:before {color: black;}#sk-container-id-5 div.sk-toggleable__content {max-height: 0;max-width: 0;overflow: hidden;text-align: left;background-color: #f0f8ff;}#sk-container-id-5 div.sk-toggleable__content pre {margin: 0.2em;color: black;border-radius: 0.25em;background-color: #f0f8ff;}#sk-container-id-5 input.sk-toggleable__control:checked~div.sk-toggleable__content {max-height: 200px;max-width: 100%;overflow: auto;}#sk-container-id-5 input.sk-toggleable__control:checked~label.sk-toggleable__label-arrow:before {content: \"▾\";}#sk-container-id-5 div.sk-estimator input.sk-toggleable__control:checked~label.sk-toggleable__label {background-color: #d4ebff;}#sk-container-id-5 div.sk-label input.sk-toggleable__control:checked~label.sk-toggleable__label {background-color: #d4ebff;}#sk-container-id-5 input.sk-hidden--visually {border: 0;clip: rect(1px 1px 1px 1px);clip: rect(1px, 1px, 1px, 1px);height: 1px;margin: -1px;overflow: hidden;padding: 0;position: absolute;width: 1px;}#sk-container-id-5 div.sk-estimator {font-family: monospace;background-color: #f0f8ff;border: 1px dotted black;border-radius: 0.25em;box-sizing: border-box;margin-bottom: 0.5em;}#sk-container-id-5 div.sk-estimator:hover {background-color: #d4ebff;}#sk-container-id-5 div.sk-parallel-item::after {content: \"\";width: 100%;border-bottom: 1px solid gray;flex-grow: 1;}#sk-container-id-5 div.sk-label:hover label.sk-toggleable__label {background-color: #d4ebff;}#sk-container-id-5 div.sk-serial::before {content: \"\";position: absolute;border-left: 1px solid gray;box-sizing: border-box;top: 0;bottom: 0;left: 50%;z-index: 0;}#sk-container-id-5 div.sk-serial {display: flex;flex-direction: column;align-items: center;background-color: white;padding-right: 0.2em;padding-left: 0.2em;position: relative;}#sk-container-id-5 div.sk-item {position: relative;z-index: 1;}#sk-container-id-5 div.sk-parallel {display: flex;align-items: stretch;justify-content: center;background-color: white;position: relative;}#sk-container-id-5 div.sk-item::before, #sk-container-id-5 div.sk-parallel-item::before {content: \"\";position: absolute;border-left: 1px solid gray;box-sizing: border-box;top: 0;bottom: 0;left: 50%;z-index: -1;}#sk-container-id-5 div.sk-parallel-item {display: flex;flex-direction: column;z-index: 1;position: relative;background-color: white;}#sk-container-id-5 div.sk-parallel-item:first-child::after {align-self: flex-end;width: 50%;}#sk-container-id-5 div.sk-parallel-item:last-child::after {align-self: flex-start;width: 50%;}#sk-container-id-5 div.sk-parallel-item:only-child::after {width: 0;}#sk-container-id-5 div.sk-dashed-wrapped {border: 1px dashed gray;margin: 0 0.4em 0.5em 0.4em;box-sizing: border-box;padding-bottom: 0.4em;background-color: white;}#sk-container-id-5 div.sk-label label {font-family: monospace;font-weight: bold;display: inline-block;line-height: 1.2em;}#sk-container-id-5 div.sk-label-container {text-align: center;}#sk-container-id-5 div.sk-container {/* jupyter's `normalize.less` sets `[hidden] { display: none; }` but bootstrap.min.css set `[hidden] { display: none !important; }` so we also need the `!important` here to be able to override the default hidden behavior on the sphinx rendered scikit-learn.org. See: https://github.com/scikit-learn/scikit-learn/issues/21755 */display: inline-block !important;position: relative;}#sk-container-id-5 div.sk-text-repr-fallback {display: none;}</style><div id=\"sk-container-id-5\" class=\"sk-top-container\"><div class=\"sk-text-repr-fallback\"><pre>LogisticRegression(C=1e+42, solver=&#x27;liblinear&#x27;)</pre><b>In a Jupyter environment, please rerun this cell to show the HTML representation or trust the notebook. <br />On GitHub, the HTML representation is unable to render, please try loading this page with nbviewer.org.</b></div><div class=\"sk-container\" hidden><div class=\"sk-item\"><div class=\"sk-estimator sk-toggleable\"><input class=\"sk-toggleable__control sk-hidden--visually\" id=\"sk-estimator-id-5\" type=\"checkbox\" checked><label for=\"sk-estimator-id-5\" class=\"sk-toggleable__label sk-toggleable__label-arrow\">LogisticRegression</label><div class=\"sk-toggleable__content\"><pre>LogisticRegression(C=1e+42, solver=&#x27;liblinear&#x27;)</pre></div></div></div></div></div>"
      ],
      "text/plain": [
       "LogisticRegression(C=1e+42, solver='liblinear')"
      ]
     },
     "execution_count": 71,
     "metadata": {},
     "output_type": "execute_result"
    }
   ],
   "source": [
    "# fit a logistic regression (set penalty=l2 and C=1e42 to avoid regularization)\n",
    "logit_reg = LogisticRegression(penalty=\"l2\", C=1e42, solver='liblinear')\n",
    "classes = list(y.cat.categories)\n",
    "logit_reg.fit(X_train, y_train)"
   ]
  },
  {
   "cell_type": "code",
   "execution_count": 73,
   "id": "b6520d76",
   "metadata": {},
   "outputs": [
    {
     "name": "stdout",
     "output_type": "stream",
     "text": [
      "Intercept: -0.16192763384755826\n",
      "                                  coeff\n",
      "sellerRating                  -0.000037\n",
      "Duration                      -0.009849\n",
      "ClosePrice                     0.084255\n",
      "OpenPrice                     -0.098236\n",
      "Category_Books                -0.027917\n",
      "Category_Clothing/Accessories -0.523625\n",
      "Category_Coins/Stamps         -0.962890\n",
      "Category_Collectibles          0.430727\n",
      "Category_Computer              0.501427\n",
      "Category_Electronics           1.164481\n",
      "Category_EverythingElse       -1.507140\n",
      "Category_Health/Beauty        -1.501507\n",
      "Category_Home/Garden           0.374514\n",
      "Category_Jewelry              -0.069445\n",
      "Category_Music/Movie/Game      0.778651\n",
      "Category_Photography           0.354568\n",
      "Category_Pottery/Glass        -0.169719\n",
      "Category_SportingGoods         0.482369\n",
      "Category_Toys/Hobbies          0.708471\n",
      "currency_GBP                   1.173496\n",
      "currency_US                    0.304626\n",
      "endDay_Sat                    -1.052249\n",
      "endDay_Sun_Fri                -0.709733\n",
      "endDay_Thu                    -0.722582\n",
      "endDay_Tue                    -0.725603\n",
      "endDay_Wed                    -0.837286\n"
     ]
    }
   ],
   "source": [
    "# print coefficients\n",
    "# print intercept\n",
    "print('Intercept:', logit_reg.intercept_[0])\n",
    "\n",
    "# print coefficients for each feature\n",
    "coefficients_df = pd.DataFrame({'coeff': logit_reg.coef_[0]}, index=X.columns)\n",
    "print(coefficients_df)"
   ]
  },
  {
   "cell_type": "code",
   "execution_count": 76,
   "id": "ccb067ad",
   "metadata": {},
   "outputs": [
    {
     "name": "stdout",
     "output_type": "stream",
     "text": [
      "Confusion Matrix (Accuracy 0.7592)\n",
      "\n",
      "       Prediction\n",
      "Actual   0   1\n",
      "     0 289  74\n",
      "     1 116 310\n"
     ]
    }
   ],
   "source": [
    "# confusion matrix\n",
    "from dmba import classificationSummary\n",
    "# predicted y for validation\n",
    "val_pred = logit_reg.predict(X_valid)\n",
    "#confusion matrix\n",
    "classificationSummary(y_valid, val_pred, class_names=classes)"
   ]
  },
  {
   "cell_type": "code",
   "execution_count": 77,
   "id": "3e9ca378",
   "metadata": {},
   "outputs": [],
   "source": [
    "# drop the predictor 'ClosePrice'\n",
    "X_train = X_train.drop(columns=['ClosePrice'])\n",
    "X_valid = X_valid.drop(columns=['ClosePrice'])"
   ]
  },
  {
   "cell_type": "code",
   "execution_count": 78,
   "id": "3d5ce835",
   "metadata": {},
   "outputs": [
    {
     "data": {
      "text/html": [
       "<style>#sk-container-id-6 {color: black;}#sk-container-id-6 pre{padding: 0;}#sk-container-id-6 div.sk-toggleable {background-color: white;}#sk-container-id-6 label.sk-toggleable__label {cursor: pointer;display: block;width: 100%;margin-bottom: 0;padding: 0.3em;box-sizing: border-box;text-align: center;}#sk-container-id-6 label.sk-toggleable__label-arrow:before {content: \"▸\";float: left;margin-right: 0.25em;color: #696969;}#sk-container-id-6 label.sk-toggleable__label-arrow:hover:before {color: black;}#sk-container-id-6 div.sk-estimator:hover label.sk-toggleable__label-arrow:before {color: black;}#sk-container-id-6 div.sk-toggleable__content {max-height: 0;max-width: 0;overflow: hidden;text-align: left;background-color: #f0f8ff;}#sk-container-id-6 div.sk-toggleable__content pre {margin: 0.2em;color: black;border-radius: 0.25em;background-color: #f0f8ff;}#sk-container-id-6 input.sk-toggleable__control:checked~div.sk-toggleable__content {max-height: 200px;max-width: 100%;overflow: auto;}#sk-container-id-6 input.sk-toggleable__control:checked~label.sk-toggleable__label-arrow:before {content: \"▾\";}#sk-container-id-6 div.sk-estimator input.sk-toggleable__control:checked~label.sk-toggleable__label {background-color: #d4ebff;}#sk-container-id-6 div.sk-label input.sk-toggleable__control:checked~label.sk-toggleable__label {background-color: #d4ebff;}#sk-container-id-6 input.sk-hidden--visually {border: 0;clip: rect(1px 1px 1px 1px);clip: rect(1px, 1px, 1px, 1px);height: 1px;margin: -1px;overflow: hidden;padding: 0;position: absolute;width: 1px;}#sk-container-id-6 div.sk-estimator {font-family: monospace;background-color: #f0f8ff;border: 1px dotted black;border-radius: 0.25em;box-sizing: border-box;margin-bottom: 0.5em;}#sk-container-id-6 div.sk-estimator:hover {background-color: #d4ebff;}#sk-container-id-6 div.sk-parallel-item::after {content: \"\";width: 100%;border-bottom: 1px solid gray;flex-grow: 1;}#sk-container-id-6 div.sk-label:hover label.sk-toggleable__label {background-color: #d4ebff;}#sk-container-id-6 div.sk-serial::before {content: \"\";position: absolute;border-left: 1px solid gray;box-sizing: border-box;top: 0;bottom: 0;left: 50%;z-index: 0;}#sk-container-id-6 div.sk-serial {display: flex;flex-direction: column;align-items: center;background-color: white;padding-right: 0.2em;padding-left: 0.2em;position: relative;}#sk-container-id-6 div.sk-item {position: relative;z-index: 1;}#sk-container-id-6 div.sk-parallel {display: flex;align-items: stretch;justify-content: center;background-color: white;position: relative;}#sk-container-id-6 div.sk-item::before, #sk-container-id-6 div.sk-parallel-item::before {content: \"\";position: absolute;border-left: 1px solid gray;box-sizing: border-box;top: 0;bottom: 0;left: 50%;z-index: -1;}#sk-container-id-6 div.sk-parallel-item {display: flex;flex-direction: column;z-index: 1;position: relative;background-color: white;}#sk-container-id-6 div.sk-parallel-item:first-child::after {align-self: flex-end;width: 50%;}#sk-container-id-6 div.sk-parallel-item:last-child::after {align-self: flex-start;width: 50%;}#sk-container-id-6 div.sk-parallel-item:only-child::after {width: 0;}#sk-container-id-6 div.sk-dashed-wrapped {border: 1px dashed gray;margin: 0 0.4em 0.5em 0.4em;box-sizing: border-box;padding-bottom: 0.4em;background-color: white;}#sk-container-id-6 div.sk-label label {font-family: monospace;font-weight: bold;display: inline-block;line-height: 1.2em;}#sk-container-id-6 div.sk-label-container {text-align: center;}#sk-container-id-6 div.sk-container {/* jupyter's `normalize.less` sets `[hidden] { display: none; }` but bootstrap.min.css set `[hidden] { display: none !important; }` so we also need the `!important` here to be able to override the default hidden behavior on the sphinx rendered scikit-learn.org. See: https://github.com/scikit-learn/scikit-learn/issues/21755 */display: inline-block !important;position: relative;}#sk-container-id-6 div.sk-text-repr-fallback {display: none;}</style><div id=\"sk-container-id-6\" class=\"sk-top-container\"><div class=\"sk-text-repr-fallback\"><pre>LogisticRegression(C=1e+42, solver=&#x27;liblinear&#x27;)</pre><b>In a Jupyter environment, please rerun this cell to show the HTML representation or trust the notebook. <br />On GitHub, the HTML representation is unable to render, please try loading this page with nbviewer.org.</b></div><div class=\"sk-container\" hidden><div class=\"sk-item\"><div class=\"sk-estimator sk-toggleable\"><input class=\"sk-toggleable__control sk-hidden--visually\" id=\"sk-estimator-id-6\" type=\"checkbox\" checked><label for=\"sk-estimator-id-6\" class=\"sk-toggleable__label sk-toggleable__label-arrow\">LogisticRegression</label><div class=\"sk-toggleable__content\"><pre>LogisticRegression(C=1e+42, solver=&#x27;liblinear&#x27;)</pre></div></div></div></div></div>"
      ],
      "text/plain": [
       "LogisticRegression(C=1e+42, solver='liblinear')"
      ]
     },
     "execution_count": 78,
     "metadata": {},
     "output_type": "execute_result"
    }
   ],
   "source": [
    "# fit a logistic regression (set penalty=\"l2\" and C=1e42 to avoid regularization)\n",
    "logit_reg = LogisticRegression(penalty=\"l2\", C=1e42, solver='liblinear')\n",
    "logit_reg.fit(X_train, y_train)"
   ]
  },
  {
   "cell_type": "code",
   "execution_count": 81,
   "id": "2d2fe092",
   "metadata": {},
   "outputs": [
    {
     "name": "stdout",
     "output_type": "stream",
     "text": [
      "Intercept: 1.2489962957946674\n",
      "                          Feature  Coefficient\n",
      "0                    sellerRating    -0.000040\n",
      "1                        Duration    -0.081672\n",
      "2                       OpenPrice    -0.007024\n",
      "3                  Category_Books    -0.171425\n",
      "4   Category_Clothing/Accessories     0.321036\n",
      "5           Category_Coins/Stamps    -0.862590\n",
      "6           Category_Collectibles     0.456241\n",
      "7               Category_Computer     0.993811\n",
      "8            Category_Electronics     1.538032\n",
      "9         Category_EverythingElse    -1.663717\n",
      "10         Category_Health/Beauty    -1.764911\n",
      "11           Category_Home/Garden     0.633313\n",
      "12               Category_Jewelry    -0.311844\n",
      "13      Category_Music/Movie/Game     0.515804\n",
      "14           Category_Photography     1.130907\n",
      "15         Category_Pottery/Glass    -0.322784\n",
      "16         Category_SportingGoods     1.382113\n",
      "17          Category_Toys/Hobbies     0.665081\n",
      "18                   currency_GBP     1.015555\n",
      "19                    currency_US    -0.094564\n",
      "20                     endDay_Sat    -1.258842\n",
      "21                 endDay_Sun_Fri    -0.975405\n",
      "22                     endDay_Thu    -1.077012\n",
      "23                     endDay_Tue    -0.748096\n",
      "24                     endDay_Wed    -0.960394\n"
     ]
    }
   ],
   "source": [
    "# Print intercept and coefficients\n",
    "print('Intercept:', logit_reg.intercept_[0])\n",
    "coefficients_df = pd.DataFrame({'Feature': X_train.columns, 'Coefficient': logit_reg.coef_[0]})\n",
    "print(coefficients_df)\n"
   ]
  },
  {
   "cell_type": "code",
   "execution_count": 84,
   "id": "35f74772",
   "metadata": {},
   "outputs": [
    {
     "name": "stdout",
     "output_type": "stream",
     "text": [
      "Confusion Matrix (Accuracy 0.6324)\n",
      "\n",
      "       Prediction\n",
      "Actual   0   1\n",
      "     0 213 150\n",
      "     1 140 286\n"
     ]
    }
   ],
   "source": [
    "# confusion matrix\n",
    "# predicted y for validation set\n",
    "from sklearn.metrics import accuracy_score\n",
    "val_pred = logit_reg.predict(X_valid)\n",
    "# Confusioin matrix\n",
    "classificationSummary(y_valid, val_pred, class_names=classes)\n",
    "\n",
    "#keep track of results\n",
    "accuracies = {}\n",
    "accuracies ['full model'] = [accuracy_score(y_train, logit_reg.predict(X_train)), accuracy_score(y_valid, val_pred)]"
   ]
  },
  {
   "cell_type": "code",
   "execution_count": 87,
   "id": "fceec9ff",
   "metadata": {},
   "outputs": [
    {
     "data": {
      "text/plain": [
       "1.0879062745412877"
      ]
     },
     "execution_count": 87,
     "metadata": {},
     "output_type": "execute_result"
    }
   ],
   "source": [
    "# odds coefficient for close price\n",
    "import math\n",
    "math.exp(.084255)"
   ]
  },
  {
   "cell_type": "code",
   "execution_count": 93,
   "id": "c6096729",
   "metadata": {},
   "outputs": [
    {
     "name": "stdout",
     "output_type": "stream",
     "text": [
      "Variables: sellerRating, Duration, OpenPrice, Category_Books, Category_Clothing/Accessories, Category_Coins/Stamps, Category_Collectibles, Category_Computer, Category_Electronics, Category_EverythingElse, Category_Health/Beauty, Category_Home/Garden, Category_Jewelry, Category_Music/Movie/Game, Category_Photography, Category_Pottery/Glass, Category_SportingGoods, Category_Toys/Hobbies, currency_GBP, currency_US, endDay_Sat, endDay_Sun_Fri, endDay_Thu, endDay_Tue, endDay_Wed\n",
      "Start: score=0.00, constant\n",
      "Step: score=-0.57, add endDay_Sat\n",
      "Step: score=-0.60, add endDay_Sun_Fri\n",
      "Step: score=-0.61, add Category_Electronics\n",
      "Step: score=-0.62, add Category_Toys/Hobbies\n",
      "Step: score=-0.63, add Category_Jewelry\n",
      "Step: score=-0.63, add Category_Computer\n",
      "Step: score=-0.64, add Category_Health/Beauty\n",
      "Step: score=-0.67, add OpenPrice\n",
      "Step: score=-0.67, add endDay_Tue\n",
      "Step: score=-0.67, add endDay_Wed\n",
      "Step: score=-0.67, add currency_GBP\n",
      "Step: score=-0.67, unchanged None\n",
      "['Category_Computer', 'Category_Electronics', 'Category_Health/Beauty', 'Category_Jewelry', 'Category_Toys/Hobbies', 'OpenPrice', 'currency_GBP', 'endDay_Sat', 'endDay_Sun_Fri', 'endDay_Tue', 'endDay_Wed']\n",
      "Confusion Matrix (Accuracy 0.6084)\n",
      "\n",
      "       Prediction\n",
      "Actual   0   1\n",
      "     0 218 145\n",
      "     1 164 262\n"
     ]
    }
   ],
   "source": [
    "from dmba import backward_elimination, forward_selection, stepwise_selection\n",
    "def train_model(variables):\n",
    "    if len(variables) == 0:\n",
    "        return None\n",
    "    model = LogisticRegression(penalty=\"l2\", C=1e42, solver='liblinear')\n",
    "    \n",
    "    model.fit(X_train[list(variables)], y_train)\n",
    "    return model\n",
    "\n",
    "def score_model(model, variables):\n",
    "    if len(variables) == 0:\n",
    "        return 0\n",
    "    y_pred = model.predict(X_train[list(variables)])\n",
    "    #we negate as score is optimized to be as low as possible\n",
    "    return -accuracy_score(y_train, y_pred)\n",
    "\n",
    "allVariables = X_train.columns\n",
    "best_fitting, var_fitting = stepwise_selection(allVariables, train_model,\n",
    "                                              score_model, verbose=True)\n",
    "print(sorted(var_fitting))\n",
    "\n",
    "#confusion matrix\n",
    "y_pred = best_fitting.predict(X_valid[list(var_fitting)])\n",
    "classificationSummary(y_valid, y_pred, class_names=classes)\n",
    "\n",
    "accuracies['best fitting'] = [accuracy_score(y_train, best_fitting.predict(X_train[list(var_fitting)])),\n",
    "                             accuracy_score(y_valid, y_pred)]\n"
   ]
  },
  {
   "cell_type": "code",
   "execution_count": 95,
   "id": "ddba1999",
   "metadata": {},
   "outputs": [
    {
     "name": "stdout",
     "output_type": "stream",
     "text": [
      "Variables: sellerRating, Duration, OpenPrice, Category_Books, Category_Clothing/Accessories, Category_Coins/Stamps, Category_Collectibles, Category_Computer, Category_Electronics, Category_EverythingElse, Category_Health/Beauty, Category_Home/Garden, Category_Jewelry, Category_Music/Movie/Game, Category_Photography, Category_Pottery/Glass, Category_SportingGoods, Category_Toys/Hobbies, currency_GBP, currency_US, endDay_Sat, endDay_Sun_Fri, endDay_Thu, endDay_Tue, endDay_Wed\n",
      "Start: score=0.00, constant\n",
      "Step: score=-0.57, add OpenPrice\n",
      "Step: score=-0.58, add Category_Music/Movie/Game\n",
      "Step: score=-0.60, add Category_SportingGoods\n",
      "Step: score=-0.63, add Category_Electronics\n",
      "Step: score=-0.64, add sellerRating\n",
      "Step: score=-0.65, add endDay_Wed\n",
      "Step: score=-0.65, add Category_Coins/Stamps\n",
      "Step: score=-0.65, add Category_Photography\n",
      "Step: score=-0.65, unchanged None\n",
      "['Category_Coins/Stamps', 'Category_Electronics', 'Category_Music/Movie/Game', 'Category_Photography', 'Category_SportingGoods', 'OpenPrice', 'endDay_Wed', 'sellerRating']\n",
      "Confusion Matrix (Accuracy 0.6527)\n",
      "\n",
      "       Prediction\n",
      "Actual   0   1\n",
      "     0 168 195\n",
      "     1  79 347\n"
     ]
    }
   ],
   "source": [
    "def score_model(model, variables):\n",
    "    if len(variables) == 0:\n",
    "        return 0\n",
    "    y_pred = model.predict(X_valid[list(variables)])\n",
    "    # we negate as score is optimized to be as low as possible\n",
    "    return -accuracy_score(y_valid, y_pred)\n",
    "\n",
    "allVariables = X_train.columns\n",
    "best_predictive, var_predictive = stepwise_selection(allVariables, train_model,\n",
    "                                                    score_model, verbose=True)\n",
    "print(sorted(var_predictive))\n",
    "\n",
    "#confusion matrix\n",
    "y_pred = best_predictive.predict(X_valid[list(var_predictive)])\n",
    "classificationSummary(y_valid, y_pred, class_names=classes)\n",
    "\n",
    "accuracies['best predictive'] = [accuracy_score(y_train, best_predictive.predict(X_train[var_predictive])),\n",
    "                                accuracy_score(y_valid, y_pred)]\n",
    "    \n"
   ]
  },
  {
   "cell_type": "code",
   "execution_count": 96,
   "id": "5159cbc9",
   "metadata": {},
   "outputs": [
    {
     "data": {
      "text/html": [
       "<div>\n",
       "<style scoped>\n",
       "    .dataframe tbody tr th:only-of-type {\n",
       "        vertical-align: middle;\n",
       "    }\n",
       "\n",
       "    .dataframe tbody tr th {\n",
       "        vertical-align: top;\n",
       "    }\n",
       "\n",
       "    .dataframe thead th {\n",
       "        text-align: right;\n",
       "    }\n",
       "</style>\n",
       "<table border=\"1\" class=\"dataframe\">\n",
       "  <thead>\n",
       "    <tr style=\"text-align: right;\">\n",
       "      <th></th>\n",
       "      <th>training</th>\n",
       "      <th>validation</th>\n",
       "    </tr>\n",
       "  </thead>\n",
       "  <tbody>\n",
       "    <tr>\n",
       "      <th>full model</th>\n",
       "      <td>0.655959</td>\n",
       "      <td>0.632446</td>\n",
       "    </tr>\n",
       "    <tr>\n",
       "      <th>best fitting</th>\n",
       "      <td>0.673711</td>\n",
       "      <td>0.608365</td>\n",
       "    </tr>\n",
       "    <tr>\n",
       "      <th>best predictive</th>\n",
       "      <td>0.634827</td>\n",
       "      <td>0.652725</td>\n",
       "    </tr>\n",
       "  </tbody>\n",
       "</table>\n",
       "</div>"
      ],
      "text/plain": [
       "                 training  validation\n",
       "full model       0.655959    0.632446\n",
       "best fitting     0.673711    0.608365\n",
       "best predictive  0.634827    0.652725"
      ]
     },
     "execution_count": 96,
     "metadata": {},
     "output_type": "execute_result"
    }
   ],
   "source": [
    "pd.DataFrame(accuracies, index=['training', 'validation']).transpose()"
   ]
  },
  {
   "cell_type": "code",
   "execution_count": 99,
   "id": "915d6ffd",
   "metadata": {},
   "outputs": [
    {
     "name": "stdout",
     "output_type": "stream",
     "text": [
      "Confusion Matrix (Accuracy 0.7681)\n",
      "\n",
      "       Prediction\n",
      "Actual   0   1\n",
      "     0 198  28\n",
      "     1 155 408\n"
     ]
    }
   ],
   "source": [
    "from sklearn.linear_model import LogisticRegression, LogisticRegressionCV\n",
    "logit_reg_L1 = LogisticRegressionCV(cv=5, random_state=0, Cs=20, max_iter=500)\n",
    "logit_reg_L1.fit(X_train, y_train)\n",
    "\n",
    "#confusion matrix\n",
    "classificationSummary(logit_reg_L1.predict(X_valid), val_pred, class_names=classes)\n",
    "\n",
    "accuracies['regularized'] = [accuracy_score(y_train, logit_reg_L1.predict(X_train)),\n",
    "                            accuracy_score(y_valid, logit_reg_L1.predict(X_valid))]"
   ]
  },
  {
   "cell_type": "code",
   "execution_count": 100,
   "id": "878b1ca0",
   "metadata": {},
   "outputs": [
    {
     "data": {
      "text/html": [
       "<div>\n",
       "<style scoped>\n",
       "    .dataframe tbody tr th:only-of-type {\n",
       "        vertical-align: middle;\n",
       "    }\n",
       "\n",
       "    .dataframe tbody tr th {\n",
       "        vertical-align: top;\n",
       "    }\n",
       "\n",
       "    .dataframe thead th {\n",
       "        text-align: right;\n",
       "    }\n",
       "</style>\n",
       "<table border=\"1\" class=\"dataframe\">\n",
       "  <thead>\n",
       "    <tr style=\"text-align: right;\">\n",
       "      <th></th>\n",
       "      <th>training</th>\n",
       "      <th>validation</th>\n",
       "    </tr>\n",
       "  </thead>\n",
       "  <tbody>\n",
       "    <tr>\n",
       "      <th>full model</th>\n",
       "      <td>0.655959</td>\n",
       "      <td>0.632446</td>\n",
       "    </tr>\n",
       "    <tr>\n",
       "      <th>best fitting</th>\n",
       "      <td>0.673711</td>\n",
       "      <td>0.608365</td>\n",
       "    </tr>\n",
       "    <tr>\n",
       "      <th>best predictive</th>\n",
       "      <td>0.634827</td>\n",
       "      <td>0.652725</td>\n",
       "    </tr>\n",
       "    <tr>\n",
       "      <th>regularized</th>\n",
       "      <td>0.622992</td>\n",
       "      <td>0.583016</td>\n",
       "    </tr>\n",
       "  </tbody>\n",
       "</table>\n",
       "</div>"
      ],
      "text/plain": [
       "                 training  validation\n",
       "full model       0.655959    0.632446\n",
       "best fitting     0.673711    0.608365\n",
       "best predictive  0.634827    0.652725\n",
       "regularized      0.622992    0.583016"
      ]
     },
     "execution_count": 100,
     "metadata": {},
     "output_type": "execute_result"
    }
   ],
   "source": [
    "pd.DataFrame(accuracies, index=['training', 'validation']).transpose()"
   ]
  },
  {
   "cell_type": "code",
   "execution_count": 102,
   "id": "a7d0d1b2",
   "metadata": {},
   "outputs": [
    {
     "data": {
      "text/plain": [
       "<Axes: xlabel='Cs'>"
      ]
     },
     "execution_count": 102,
     "metadata": {},
     "output_type": "execute_result"
    },
    {
     "data": {
      "image/png": "[encoded data removed]",
      "text/plain": [
       "<Figure size 640x480 with 1 Axes>"
      ]
     },
     "metadata": {},
     "output_type": "display_data"
    }
   ],
   "source": [
    "cv_result = pd.DataFrame({\n",
    "    'Cs': logit_reg_L1.Cs_,\n",
    "    'cv_score': np.mean(logit_reg_L1.scores_[1], axis=0),\n",
    "    \n",
    "})\n",
    "cv_result.plot.line(x='Cs', y='cv_score', logx=True)"
   ]
  },
  {
   "cell_type": "code",
   "execution_count": 104,
   "id": "0957f69f",
   "metadata": {},
   "outputs": [
    {
     "name": "stdout",
     "output_type": "stream",
     "text": [
      "intercept  1.2489962957946674\n"
     ]
    },
    {
     "data": {
      "text/html": [
       "<div>\n",
       "<style scoped>\n",
       "    .dataframe tbody tr th:only-of-type {\n",
       "        vertical-align: middle;\n",
       "    }\n",
       "\n",
       "    .dataframe tbody tr th {\n",
       "        vertical-align: top;\n",
       "    }\n",
       "\n",
       "    .dataframe thead th {\n",
       "        text-align: right;\n",
       "    }\n",
       "</style>\n",
       "<table border=\"1\" class=\"dataframe\">\n",
       "  <thead>\n",
       "    <tr style=\"text-align: right;\">\n",
       "      <th></th>\n",
       "      <th>unregularized</th>\n",
       "      <th>best_fitting</th>\n",
       "      <th>best_predictive</th>\n",
       "      <th>L1 regularized</th>\n",
       "    </tr>\n",
       "  </thead>\n",
       "  <tbody>\n",
       "    <tr>\n",
       "      <th>sellerRating</th>\n",
       "      <td>-0.000040</td>\n",
       "      <td>0.000000</td>\n",
       "      <td>-0.000023</td>\n",
       "      <td>-0.000006</td>\n",
       "    </tr>\n",
       "    <tr>\n",
       "      <th>Duration</th>\n",
       "      <td>-0.081672</td>\n",
       "      <td>0.000000</td>\n",
       "      <td>0.000000</td>\n",
       "      <td>-0.045518</td>\n",
       "    </tr>\n",
       "    <tr>\n",
       "      <th>OpenPrice</th>\n",
       "      <td>-0.007024</td>\n",
       "      <td>-0.009027</td>\n",
       "      <td>-0.009340</td>\n",
       "      <td>-0.008252</td>\n",
       "    </tr>\n",
       "    <tr>\n",
       "      <th>Category_Books</th>\n",
       "      <td>-0.171425</td>\n",
       "      <td>0.000000</td>\n",
       "      <td>0.000000</td>\n",
       "      <td>-0.073925</td>\n",
       "    </tr>\n",
       "    <tr>\n",
       "      <th>Category_Clothing/Accessories</th>\n",
       "      <td>0.321036</td>\n",
       "      <td>0.000000</td>\n",
       "      <td>0.000000</td>\n",
       "      <td>-0.030697</td>\n",
       "    </tr>\n",
       "    <tr>\n",
       "      <th>Category_Coins/Stamps</th>\n",
       "      <td>-0.862590</td>\n",
       "      <td>0.000000</td>\n",
       "      <td>-0.393639</td>\n",
       "      <td>-0.033535</td>\n",
       "    </tr>\n",
       "    <tr>\n",
       "      <th>Category_Collectibles</th>\n",
       "      <td>0.456241</td>\n",
       "      <td>0.000000</td>\n",
       "      <td>0.000000</td>\n",
       "      <td>0.034916</td>\n",
       "    </tr>\n",
       "    <tr>\n",
       "      <th>Category_Computer</th>\n",
       "      <td>0.993811</td>\n",
       "      <td>0.658444</td>\n",
       "      <td>0.000000</td>\n",
       "      <td>0.061361</td>\n",
       "    </tr>\n",
       "    <tr>\n",
       "      <th>Category_Electronics</th>\n",
       "      <td>1.538032</td>\n",
       "      <td>1.223071</td>\n",
       "      <td>1.262648</td>\n",
       "      <td>0.146363</td>\n",
       "    </tr>\n",
       "    <tr>\n",
       "      <th>Category_EverythingElse</th>\n",
       "      <td>-1.663717</td>\n",
       "      <td>0.000000</td>\n",
       "      <td>0.000000</td>\n",
       "      <td>-0.045057</td>\n",
       "    </tr>\n",
       "    <tr>\n",
       "      <th>Category_Health/Beauty</th>\n",
       "      <td>-1.764911</td>\n",
       "      <td>-2.085381</td>\n",
       "      <td>0.000000</td>\n",
       "      <td>-0.202154</td>\n",
       "    </tr>\n",
       "    <tr>\n",
       "      <th>Category_Home/Garden</th>\n",
       "      <td>0.633313</td>\n",
       "      <td>0.000000</td>\n",
       "      <td>0.000000</td>\n",
       "      <td>0.040578</td>\n",
       "    </tr>\n",
       "    <tr>\n",
       "      <th>Category_Jewelry</th>\n",
       "      <td>-0.311844</td>\n",
       "      <td>-0.913533</td>\n",
       "      <td>0.000000</td>\n",
       "      <td>-0.095698</td>\n",
       "    </tr>\n",
       "    <tr>\n",
       "      <th>Category_Music/Movie/Game</th>\n",
       "      <td>0.515804</td>\n",
       "      <td>0.000000</td>\n",
       "      <td>0.592887</td>\n",
       "      <td>0.176469</td>\n",
       "    </tr>\n",
       "    <tr>\n",
       "      <th>Category_Photography</th>\n",
       "      <td>1.130907</td>\n",
       "      <td>0.000000</td>\n",
       "      <td>0.364971</td>\n",
       "      <td>0.025142</td>\n",
       "    </tr>\n",
       "    <tr>\n",
       "      <th>Category_Pottery/Glass</th>\n",
       "      <td>-0.322784</td>\n",
       "      <td>0.000000</td>\n",
       "      <td>0.000000</td>\n",
       "      <td>-0.024152</td>\n",
       "    </tr>\n",
       "    <tr>\n",
       "      <th>Category_SportingGoods</th>\n",
       "      <td>1.382113</td>\n",
       "      <td>0.000000</td>\n",
       "      <td>1.315823</td>\n",
       "      <td>0.173425</td>\n",
       "    </tr>\n",
       "    <tr>\n",
       "      <th>Category_Toys/Hobbies</th>\n",
       "      <td>0.665081</td>\n",
       "      <td>0.161318</td>\n",
       "      <td>0.000000</td>\n",
       "      <td>0.027541</td>\n",
       "    </tr>\n",
       "    <tr>\n",
       "      <th>currency_GBP</th>\n",
       "      <td>1.015555</td>\n",
       "      <td>0.113141</td>\n",
       "      <td>0.000000</td>\n",
       "      <td>0.111872</td>\n",
       "    </tr>\n",
       "    <tr>\n",
       "      <th>currency_US</th>\n",
       "      <td>-0.094564</td>\n",
       "      <td>0.000000</td>\n",
       "      <td>0.000000</td>\n",
       "      <td>-0.013846</td>\n",
       "    </tr>\n",
       "    <tr>\n",
       "      <th>endDay_Sat</th>\n",
       "      <td>-1.258842</td>\n",
       "      <td>-1.105547</td>\n",
       "      <td>0.000000</td>\n",
       "      <td>-0.260799</td>\n",
       "    </tr>\n",
       "    <tr>\n",
       "      <th>endDay_Sun_Fri</th>\n",
       "      <td>-0.975405</td>\n",
       "      <td>-0.825920</td>\n",
       "      <td>0.000000</td>\n",
       "      <td>-0.208278</td>\n",
       "    </tr>\n",
       "    <tr>\n",
       "      <th>endDay_Thu</th>\n",
       "      <td>-1.077012</td>\n",
       "      <td>0.000000</td>\n",
       "      <td>0.000000</td>\n",
       "      <td>0.093818</td>\n",
       "    </tr>\n",
       "    <tr>\n",
       "      <th>endDay_Tue</th>\n",
       "      <td>-0.748096</td>\n",
       "      <td>-0.676117</td>\n",
       "      <td>0.000000</td>\n",
       "      <td>-0.038298</td>\n",
       "    </tr>\n",
       "    <tr>\n",
       "      <th>endDay_Wed</th>\n",
       "      <td>-0.960394</td>\n",
       "      <td>-1.006749</td>\n",
       "      <td>-0.388642</td>\n",
       "      <td>-0.062178</td>\n",
       "    </tr>\n",
       "  </tbody>\n",
       "</table>\n",
       "</div>"
      ],
      "text/plain": [
       "                               unregularized  ...  L1 regularized\n",
       "sellerRating                       -0.000040  ...       -0.000006\n",
       "Duration                           -0.081672  ...       -0.045518\n",
       "OpenPrice                          -0.007024  ...       -0.008252\n",
       "Category_Books                     -0.171425  ...       -0.073925\n",
       "Category_Clothing/Accessories       0.321036  ...       -0.030697\n",
       "Category_Coins/Stamps              -0.862590  ...       -0.033535\n",
       "Category_Collectibles               0.456241  ...        0.034916\n",
       "Category_Computer                   0.993811  ...        0.061361\n",
       "Category_Electronics                1.538032  ...        0.146363\n",
       "Category_EverythingElse            -1.663717  ...       -0.045057\n",
       "Category_Health/Beauty             -1.764911  ...       -0.202154\n",
       "Category_Home/Garden                0.633313  ...        0.040578\n",
       "Category_Jewelry                   -0.311844  ...       -0.095698\n",
       "Category_Music/Movie/Game           0.515804  ...        0.176469\n",
       "Category_Photography                1.130907  ...        0.025142\n",
       "Category_Pottery/Glass             -0.322784  ...       -0.024152\n",
       "Category_SportingGoods              1.382113  ...        0.173425\n",
       "Category_Toys/Hobbies               0.665081  ...        0.027541\n",
       "currency_GBP                        1.015555  ...        0.111872\n",
       "currency_US                        -0.094564  ...       -0.013846\n",
       "endDay_Sat                         -1.258842  ...       -0.260799\n",
       "endDay_Sun_Fri                     -0.975405  ...       -0.208278\n",
       "endDay_Thu                         -1.077012  ...        0.093818\n",
       "endDay_Tue                         -0.748096  ...       -0.038298\n",
       "endDay_Wed                         -0.960394  ...       -0.062178\n",
       "\n",
       "[25 rows x 4 columns]"
      ]
     },
     "execution_count": 104,
     "metadata": {},
     "output_type": "execute_result"
    }
   ],
   "source": [
    "# print coefficients\n",
    "print('intercept ', logit_reg.intercept_[0])\n",
    "coefficients = pd.DataFrame({\n",
    "         'unregularized': logit_reg.coef_[0],\n",
    "         'best_fitting': 0,\n",
    "         'best_predictive':0,\n",
    "         'L1 regularized': logit_reg_L1.coef_[0]\n",
    "          }, index=X_train.columns)\n",
    "coefficients.loc[var_fitting, 'best_fitting'] = best_fitting.coef_.ravel()\n",
    "coefficients.loc[var_predictive, 'best_predictive'] = best_predictive.coef_.ravel()\n",
    "coefficients"
   ]
  },
  {
   "cell_type": "code",
   "execution_count": 115,
   "id": "200dd561",
   "metadata": {},
   "outputs": [
    {
     "data": {
      "text/html": [
       "<div>\n",
       "<style scoped>\n",
       "    .dataframe tbody tr th:only-of-type {\n",
       "        vertical-align: middle;\n",
       "    }\n",
       "\n",
       "    .dataframe tbody tr th {\n",
       "        vertical-align: top;\n",
       "    }\n",
       "\n",
       "    .dataframe thead th {\n",
       "        text-align: right;\n",
       "    }\n",
       "</style>\n",
       "<table border=\"1\" class=\"dataframe\">\n",
       "  <thead>\n",
       "    <tr style=\"text-align: right;\">\n",
       "      <th></th>\n",
       "      <th>cutoff</th>\n",
       "      <th>accuracy</th>\n",
       "    </tr>\n",
       "  </thead>\n",
       "  <tbody>\n",
       "    <tr>\n",
       "      <th>533</th>\n",
       "      <td>0.533</td>\n",
       "      <td>0.599493</td>\n",
       "    </tr>\n",
       "    <tr>\n",
       "      <th>534</th>\n",
       "      <td>0.534</td>\n",
       "      <td>0.600760</td>\n",
       "    </tr>\n",
       "    <tr>\n",
       "      <th>535</th>\n",
       "      <td>0.535</td>\n",
       "      <td>0.595691</td>\n",
       "    </tr>\n",
       "  </tbody>\n",
       "</table>\n",
       "</div>"
      ],
      "text/plain": [
       "     cutoff  accuracy\n",
       "533   0.533  0.599493\n",
       "534   0.534  0.600760\n",
       "535   0.535  0.595691"
      ]
     },
     "execution_count": 115,
     "metadata": {},
     "output_type": "execute_result"
    },
    {
     "data": {
      "image/png": "[encoded data removed]",
      "text/plain": [
       "<Figure size 640x480 with 1 Axes>"
      ]
     },
     "metadata": {},
     "output_type": "display_data"
    }
   ],
   "source": [
    "# Determine accuracy for different cutoff values between 0 and 1\n",
    "data = []\n",
    "for cutoff in [v / 1000 for v in range(1001)]:\n",
    "    data.append({'cutoff': cutoff,\n",
    "                'accuracy': accuracy_score(y_valid, logit_reg_L1.predict_proba(X_valid)[:, 1] > cutoff)})\n",
    "data = pd.DataFrame(data)\n",
    "\n",
    "maxAccuracyAt = data.iloc[data['accuracy'].argmax(), 0]\n",
    "\n",
    "ax = data.plot.line(x='cutoff', y='accuracy')\n",
    "ax.axvline(x=0.5, color='lightgrey')\n",
    "ax.axvline(x=maxAccuracyAt, color='C1')\n",
    "\n",
    "data.iloc[data['accuracy'].argmax() - 1:data['accuracy'].argmax() + 2, :]"
   ]
  },
  {
   "cell_type": "code",
   "execution_count": null,
   "id": "35082850",
   "metadata": {},
   "outputs": [],
   "source": []
  }
 ],
 "metadata": {
  "kernelspec": {
   "display_name": "Python 3 (ipykernel)",
   "language": "python",
   "name": "python3"
  },
  "language_info": {
   "codemirror_mode": {
    "name": "ipython",
    "version": 3
   },
   "file_extension": ".py",
   "mimetype": "text/x-python",
   "name": "python",
   "nbconvert_exporter": "python",
   "pygments_lexer": "ipython3",
   "version": "3.11.5"
  }
 },
 "nbformat": 4,
 "nbformat_minor": 5
}
