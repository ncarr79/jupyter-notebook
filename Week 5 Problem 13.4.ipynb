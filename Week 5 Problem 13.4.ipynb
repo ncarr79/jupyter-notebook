{
 "cells": [
  {
   "cell_type": "code",
   "execution_count": 3,
   "id": "ad7c3bc3",
   "metadata": {},
   "outputs": [],
   "source": [
    "import pandas as pd\n",
    "from sklearn.model_selection import train_test_split\n",
    "from sklearn.tree import DecisionTreeClassifier\n",
    "from sklearn.ensemble import AdaBoostClassifier\n",
    "from sklearn.ensemble import BaggingClassifier\n",
    "from sklearn.ensemble import RandomForestClassifier\n",
    "import dmba\n",
    "from dmba import classificationSummary"
   ]
  },
  {
   "cell_type": "code",
   "execution_count": 4,
   "id": "b354485b",
   "metadata": {},
   "outputs": [
    {
     "data": {
      "text/html": [
       "<div>\n",
       "<style scoped>\n",
       "    .dataframe tbody tr th:only-of-type {\n",
       "        vertical-align: middle;\n",
       "    }\n",
       "\n",
       "    .dataframe tbody tr th {\n",
       "        vertical-align: top;\n",
       "    }\n",
       "\n",
       "    .dataframe thead th {\n",
       "        text-align: right;\n",
       "    }\n",
       "</style>\n",
       "<table border=\"1\" class=\"dataframe\">\n",
       "  <thead>\n",
       "    <tr style=\"text-align: right;\">\n",
       "      <th></th>\n",
       "      <th>Purchase</th>\n",
       "      <th>Age</th>\n",
       "      <th>Hair_Color</th>\n",
       "      <th>U_S_Region</th>\n",
       "      <th>Validation</th>\n",
       "      <th>Promotion_ord</th>\n",
       "      <th>Gender_ord</th>\n",
       "      <th>Residence_ord</th>\n",
       "    </tr>\n",
       "  </thead>\n",
       "  <tbody>\n",
       "    <tr>\n",
       "      <th>0</th>\n",
       "      <td>0</td>\n",
       "      <td>25</td>\n",
       "      <td>Black</td>\n",
       "      <td>Southwest</td>\n",
       "      <td>1</td>\n",
       "      <td>1</td>\n",
       "      <td>0</td>\n",
       "      <td>1</td>\n",
       "    </tr>\n",
       "    <tr>\n",
       "      <th>1</th>\n",
       "      <td>0</td>\n",
       "      <td>30</td>\n",
       "      <td>Black</td>\n",
       "      <td>Northwest</td>\n",
       "      <td>1</td>\n",
       "      <td>0</td>\n",
       "      <td>0</td>\n",
       "      <td>1</td>\n",
       "    </tr>\n",
       "    <tr>\n",
       "      <th>2</th>\n",
       "      <td>0</td>\n",
       "      <td>45</td>\n",
       "      <td>Red</td>\n",
       "      <td>Northeast</td>\n",
       "      <td>1</td>\n",
       "      <td>0</td>\n",
       "      <td>0</td>\n",
       "      <td>0</td>\n",
       "    </tr>\n",
       "    <tr>\n",
       "      <th>3</th>\n",
       "      <td>0</td>\n",
       "      <td>35</td>\n",
       "      <td>Blond</td>\n",
       "      <td>Southwest</td>\n",
       "      <td>0</td>\n",
       "      <td>0</td>\n",
       "      <td>0</td>\n",
       "      <td>1</td>\n",
       "    </tr>\n",
       "    <tr>\n",
       "      <th>4</th>\n",
       "      <td>0</td>\n",
       "      <td>33</td>\n",
       "      <td>Brown</td>\n",
       "      <td>Southwest</td>\n",
       "      <td>0</td>\n",
       "      <td>1</td>\n",
       "      <td>0</td>\n",
       "      <td>1</td>\n",
       "    </tr>\n",
       "  </tbody>\n",
       "</table>\n",
       "</div>"
      ],
      "text/plain": [
       "   Purchase  Age Hair_Color U_S_Region  Validation  Promotion_ord  Gender_ord  \\\n",
       "0         0   25      Black  Southwest           1              1           0   \n",
       "1         0   30      Black  Northwest           1              0           0   \n",
       "2         0   45        Red  Northeast           1              0           0   \n",
       "3         0   35      Blond  Southwest           0              0           0   \n",
       "4         0   33      Brown  Southwest           0              1           0   \n",
       "\n",
       "   Residence_ord  \n",
       "0              1  \n",
       "1              1  \n",
       "2              0  \n",
       "3              1  \n",
       "4              1  "
      ]
     },
     "execution_count": 4,
     "metadata": {},
     "output_type": "execute_result"
    }
   ],
   "source": [
    "data = dmba.load_data('Hair-Care-Product.csv')\n",
    "data.columns = [d.replace('.', '_').replace(' ', '_').replace('__', '_') for d in data.columns]\n",
    "data.head()"
   ]
  },
  {
   "cell_type": "code",
   "execution_count": 5,
   "id": "ee942a7b",
   "metadata": {},
   "outputs": [
    {
     "name": "stdout",
     "output_type": "stream",
     "text": [
      "Number of purchases made 80\n",
      "Total Number of Records 1.0\n",
      "80 / 4976 =  0.01607717041800643\n"
     ]
    }
   ],
   "source": [
    "#Number of purchases made for members that got a promotion\n",
    "print(\"Number of purchases made\", sum(data['Purchase'] * data['Promotion_ord']))\n",
    "\n",
    "#Number of members that got a promotion\n",
    "print(\"Total Number of Records\", sum(data['Promotion_ord']) / sum(data['Promotion_ord']))\n",
    "\n",
    "#Purchase propensity\n",
    "print(\"80 / 4976 = \", sum(data['Purchase'] * data['Promotion_ord']) / sum(data['Promotion_ord']))"
   ]
  },
  {
   "cell_type": "code",
   "execution_count": 6,
   "id": "780eaf41",
   "metadata": {},
   "outputs": [
    {
     "name": "stdout",
     "output_type": "stream",
     "text": [
      "Number of purchases made 32\n",
      "Total Number of Records 5024\n",
      "32 / 5014 =  0.006369426751592357\n"
     ]
    }
   ],
   "source": [
    "#Number of purchase made for members that did not receive the promotion\n",
    "print(\"Number of purchases made\", sum(data['Purchase'] * (1 - data['Promotion_ord'])))\n",
    "\n",
    "#Number of members that did not get a promotion\n",
    "print(\"Total Number of Records\", sum( 1 - data['Promotion_ord']))\n",
    "\n",
    "#Purchase propensity\n",
    "print(\"32 / 5014 = \", sum(data['Purchase'] * (1 - data['Promotion_ord'])) / sum(1 - data['Promotion_ord']))"
   ]
  },
  {
   "cell_type": "code",
   "execution_count": 7,
   "id": "89641478",
   "metadata": {},
   "outputs": [
    {
     "data": {
      "text/html": [
       "<div>\n",
       "<style scoped>\n",
       "    .dataframe tbody tr th:only-of-type {\n",
       "        vertical-align: middle;\n",
       "    }\n",
       "\n",
       "    .dataframe tbody tr th {\n",
       "        vertical-align: top;\n",
       "    }\n",
       "\n",
       "    .dataframe thead th {\n",
       "        text-align: right;\n",
       "    }\n",
       "</style>\n",
       "<table border=\"1\" class=\"dataframe\">\n",
       "  <thead>\n",
       "    <tr style=\"text-align: right;\">\n",
       "      <th></th>\n",
       "      <th>Purchase</th>\n",
       "      <th>Age</th>\n",
       "      <th>Validation</th>\n",
       "      <th>Promotion_ord</th>\n",
       "      <th>Gender_ord</th>\n",
       "      <th>Residence_ord</th>\n",
       "      <th>Hair_Color_Blond</th>\n",
       "      <th>Hair_Color_Brown</th>\n",
       "      <th>Hair_Color_Red</th>\n",
       "      <th>U_S_Region_Northwest</th>\n",
       "      <th>U_S_Region_Southeast</th>\n",
       "      <th>U_S_Region_Southwest</th>\n",
       "    </tr>\n",
       "  </thead>\n",
       "  <tbody>\n",
       "    <tr>\n",
       "      <th>0</th>\n",
       "      <td>0</td>\n",
       "      <td>25</td>\n",
       "      <td>1</td>\n",
       "      <td>1</td>\n",
       "      <td>0</td>\n",
       "      <td>1</td>\n",
       "      <td>False</td>\n",
       "      <td>False</td>\n",
       "      <td>False</td>\n",
       "      <td>False</td>\n",
       "      <td>False</td>\n",
       "      <td>True</td>\n",
       "    </tr>\n",
       "    <tr>\n",
       "      <th>1</th>\n",
       "      <td>0</td>\n",
       "      <td>30</td>\n",
       "      <td>1</td>\n",
       "      <td>0</td>\n",
       "      <td>0</td>\n",
       "      <td>1</td>\n",
       "      <td>False</td>\n",
       "      <td>False</td>\n",
       "      <td>False</td>\n",
       "      <td>True</td>\n",
       "      <td>False</td>\n",
       "      <td>False</td>\n",
       "    </tr>\n",
       "    <tr>\n",
       "      <th>2</th>\n",
       "      <td>0</td>\n",
       "      <td>45</td>\n",
       "      <td>1</td>\n",
       "      <td>0</td>\n",
       "      <td>0</td>\n",
       "      <td>0</td>\n",
       "      <td>False</td>\n",
       "      <td>False</td>\n",
       "      <td>True</td>\n",
       "      <td>False</td>\n",
       "      <td>False</td>\n",
       "      <td>False</td>\n",
       "    </tr>\n",
       "    <tr>\n",
       "      <th>3</th>\n",
       "      <td>0</td>\n",
       "      <td>35</td>\n",
       "      <td>0</td>\n",
       "      <td>0</td>\n",
       "      <td>0</td>\n",
       "      <td>1</td>\n",
       "      <td>True</td>\n",
       "      <td>False</td>\n",
       "      <td>False</td>\n",
       "      <td>False</td>\n",
       "      <td>False</td>\n",
       "      <td>True</td>\n",
       "    </tr>\n",
       "    <tr>\n",
       "      <th>4</th>\n",
       "      <td>0</td>\n",
       "      <td>33</td>\n",
       "      <td>0</td>\n",
       "      <td>1</td>\n",
       "      <td>0</td>\n",
       "      <td>1</td>\n",
       "      <td>False</td>\n",
       "      <td>True</td>\n",
       "      <td>False</td>\n",
       "      <td>False</td>\n",
       "      <td>False</td>\n",
       "      <td>True</td>\n",
       "    </tr>\n",
       "  </tbody>\n",
       "</table>\n",
       "</div>"
      ],
      "text/plain": [
       "   Purchase  Age  Validation  Promotion_ord  Gender_ord  Residence_ord  \\\n",
       "0         0   25           1              1           0              1   \n",
       "1         0   30           1              0           0              1   \n",
       "2         0   45           1              0           0              0   \n",
       "3         0   35           0              0           0              1   \n",
       "4         0   33           0              1           0              1   \n",
       "\n",
       "   Hair_Color_Blond  Hair_Color_Brown  Hair_Color_Red  U_S_Region_Northwest  \\\n",
       "0             False             False           False                 False   \n",
       "1             False             False           False                  True   \n",
       "2             False             False            True                 False   \n",
       "3              True             False           False                 False   \n",
       "4             False              True           False                 False   \n",
       "\n",
       "   U_S_Region_Southeast  U_S_Region_Southwest  \n",
       "0                 False                  True  \n",
       "1                 False                 False  \n",
       "2                 False                 False  \n",
       "3                 False                  True  \n",
       "4                 False                  True  "
      ]
     },
     "execution_count": 7,
     "metadata": {},
     "output_type": "execute_result"
    }
   ],
   "source": [
    "data.Hair_Color = data.Hair_Color.astype('category')\n",
    "data.U_S_Region = data.U_S_Region.astype('category')\n",
    "data = pd.get_dummies(data, drop_first=True)\n",
    "data.head()"
   ]
  },
  {
   "cell_type": "code",
   "execution_count": 9,
   "id": "8999c718",
   "metadata": {},
   "outputs": [],
   "source": [
    "from sklearn import preprocessing\n",
    "\n",
    "y = data['Purchase']\n",
    "X = data.drop(columns=['Purchase'])\n",
    "\n",
    "#Standardize the dataset\n",
    "scaler = preprocessing.StandardScaler()\n",
    "X_norm = scaler.fit_transform(X * 1.0)\n",
    "\n",
    "data_norm = pd.concat([pd.DataFrame(X_norm, columns=data.columns[1:]),\n",
    "                      data['Purchase']], axis=1)\n",
    "train, valid = train_test_split(data_norm, test_size=0.4, random_state=1)"
   ]
  },
  {
   "cell_type": "code",
   "execution_count": 11,
   "id": "da06c106",
   "metadata": {},
   "outputs": [
    {
     "name": "stdout",
     "output_type": "stream",
     "text": [
      "Confusion Matrix (Accuracy 0.9840)\n",
      "\n",
      "       Prediction\n",
      "Actual    0    1\n",
      "     0 3936   12\n",
      "     1   52    0\n"
     ]
    }
   ],
   "source": [
    "rfModel = RandomForestClassifier(n_estimators=100)\n",
    "rfModel.fit(train.drop(columns=['Purchase']), train['Purchase'])\n",
    "\n",
    "pred = rfModel.predict(valid.drop(columns=['Purchase']))\n",
    "classificationSummary(valid.Purchase, pred)"
   ]
  },
  {
   "cell_type": "code",
   "execution_count": 14,
   "id": "8c4269ec",
   "metadata": {},
   "outputs": [
    {
     "data": {
      "image/png": "[encoded data removed]",
      "text/plain": [
       "<Figure size 640x480 with 1 Axes>"
      ]
     },
     "metadata": {},
     "output_type": "display_data"
    }
   ],
   "source": [
    "import matplotlib.pylab as plt\n",
    "%matplotlib inline\n",
    "uplift_df = valid.drop(columns=['Purchase']).copy()\n",
    "\n",
    "uplift_df.Promotion_ord = 1\n",
    "predTreatment = rfModel.predict_proba(uplift_df)\n",
    "uplift_df.Promotion_ord = 0\n",
    "predControl = rfModel.predict_proba(uplift_df)\n",
    "\n",
    "upliftResult_rf = pd.DataFrame({\n",
    "    'probMessage': predTreatment[:,1],\n",
    "    'probNoMessage': predControl[:,1],\n",
    "    'uplift': predTreatment[:,1] - predControl[:,1],\n",
    "    }, index=uplift_df.index)\n",
    "upliftResult_rf = upliftResult_rf.sort_values(by=['uplift'], ascending=False)\n",
    "upliftResult_rf.reset_index().plot(x=None, y='uplift')\n",
    "plt.show()"
   ]
  },
  {
   "cell_type": "code",
   "execution_count": 16,
   "id": "f9d23f53",
   "metadata": {},
   "outputs": [
    {
     "name": "stdout",
     "output_type": "stream",
     "text": [
      "Confusion Matrix (Accuracy 0.9870)\n",
      "\n",
      "       Prediction\n",
      "Actual    0    1\n",
      "     0 3948    0\n",
      "     1   52    0\n"
     ]
    }
   ],
   "source": [
    "from sklearn.neighbors import NearestNeighbors, KNeighborsClassifier\n",
    "knnModel = KNeighborsClassifier(n_neighbors=11)\n",
    "knnModel.fit(train.drop(columns=['Purchase']), train['Purchase'])\n",
    "\n",
    "pred = knnModel.predict(valid.drop(columns=['Purchase']))\n",
    "classificationSummary(valid.Purchase, pred)"
   ]
  },
  {
   "cell_type": "code",
   "execution_count": 17,
   "id": "eb248132",
   "metadata": {},
   "outputs": [
    {
     "data": {
      "image/png": "[encoded data removed]",
      "text/plain": [
       "<Figure size 640x480 with 1 Axes>"
      ]
     },
     "metadata": {},
     "output_type": "display_data"
    }
   ],
   "source": [
    "upliftt_df = valid.drop(columns=['Purchase']).copy()\n",
    "\n",
    "uplift_df.Promotion_ord = 1\n",
    "predTreatment = knnModel.predict_proba(uplift_df)\n",
    "uplift_df.Promotion_ord = 0\n",
    "predControl = knnModel.predict_proba(uplift_df)\n",
    "\n",
    "upliftResult_knn = pd.DataFrame({\n",
    "    'probMessage': predTreatment[:,1],\n",
    "    'pronNoMessage': predControl[:, 1],\n",
    "    'uplift': predTreatment[:, 1] - predControl[:,1],\n",
    "    }, index=uplift_df.index)\n",
    "upliftResult_knn = upliftResult_knn.sort_values(by=['uplift'], ascending=False)\n",
    "upliftResult_knn.reset_index().plot(x=None, y='uplift')\n",
    "plt.show()\n"
   ]
  },
  {
   "cell_type": "code",
   "execution_count": 18,
   "id": "a63235f7",
   "metadata": {},
   "outputs": [
    {
     "data": {
      "text/html": [
       "<div>\n",
       "<style scoped>\n",
       "    .dataframe tbody tr th:only-of-type {\n",
       "        vertical-align: middle;\n",
       "    }\n",
       "\n",
       "    .dataframe tbody tr th {\n",
       "        vertical-align: top;\n",
       "    }\n",
       "\n",
       "    .dataframe thead th {\n",
       "        text-align: right;\n",
       "    }\n",
       "</style>\n",
       "<table border=\"1\" class=\"dataframe\">\n",
       "  <thead>\n",
       "    <tr style=\"text-align: right;\">\n",
       "      <th></th>\n",
       "      <th>probMessage</th>\n",
       "      <th>probNoMessage</th>\n",
       "      <th>uplift</th>\n",
       "    </tr>\n",
       "  </thead>\n",
       "  <tbody>\n",
       "    <tr>\n",
       "      <th>6757</th>\n",
       "      <td>0.74</td>\n",
       "      <td>0.02</td>\n",
       "      <td>0.72</td>\n",
       "    </tr>\n",
       "    <tr>\n",
       "      <th>3380</th>\n",
       "      <td>0.67</td>\n",
       "      <td>0.02</td>\n",
       "      <td>0.65</td>\n",
       "    </tr>\n",
       "    <tr>\n",
       "      <th>4295</th>\n",
       "      <td>0.65</td>\n",
       "      <td>0.00</td>\n",
       "      <td>0.65</td>\n",
       "    </tr>\n",
       "  </tbody>\n",
       "</table>\n",
       "</div>"
      ],
      "text/plain": [
       "      probMessage  probNoMessage  uplift\n",
       "6757         0.74           0.02    0.72\n",
       "3380         0.67           0.02    0.65\n",
       "4295         0.65           0.00    0.65"
      ]
     },
     "execution_count": 18,
     "metadata": {},
     "output_type": "execute_result"
    }
   ],
   "source": [
    "upliftResult_rf.head(3)"
   ]
  },
  {
   "cell_type": "code",
   "execution_count": 19,
   "id": "a64c3db2",
   "metadata": {},
   "outputs": [
    {
     "data": {
      "text/html": [
       "<div>\n",
       "<style scoped>\n",
       "    .dataframe tbody tr th:only-of-type {\n",
       "        vertical-align: middle;\n",
       "    }\n",
       "\n",
       "    .dataframe tbody tr th {\n",
       "        vertical-align: top;\n",
       "    }\n",
       "\n",
       "    .dataframe thead th {\n",
       "        text-align: right;\n",
       "    }\n",
       "</style>\n",
       "<table border=\"1\" class=\"dataframe\">\n",
       "  <thead>\n",
       "    <tr style=\"text-align: right;\">\n",
       "      <th></th>\n",
       "      <th>probMessage</th>\n",
       "      <th>pronNoMessage</th>\n",
       "      <th>uplift</th>\n",
       "    </tr>\n",
       "  </thead>\n",
       "  <tbody>\n",
       "    <tr>\n",
       "      <th>458</th>\n",
       "      <td>0.181818</td>\n",
       "      <td>0.0</td>\n",
       "      <td>0.181818</td>\n",
       "    </tr>\n",
       "    <tr>\n",
       "      <th>4919</th>\n",
       "      <td>0.181818</td>\n",
       "      <td>0.0</td>\n",
       "      <td>0.181818</td>\n",
       "    </tr>\n",
       "    <tr>\n",
       "      <th>5831</th>\n",
       "      <td>0.181818</td>\n",
       "      <td>0.0</td>\n",
       "      <td>0.181818</td>\n",
       "    </tr>\n",
       "  </tbody>\n",
       "</table>\n",
       "</div>"
      ],
      "text/plain": [
       "      probMessage  pronNoMessage    uplift\n",
       "458      0.181818            0.0  0.181818\n",
       "4919     0.181818            0.0  0.181818\n",
       "5831     0.181818            0.0  0.181818"
      ]
     },
     "execution_count": 19,
     "metadata": {},
     "output_type": "execute_result"
    }
   ],
   "source": [
    "upliftResult_knn.head(3)"
   ]
  },
  {
   "cell_type": "code",
   "execution_count": null,
   "id": "de82b7cb",
   "metadata": {},
   "outputs": [],
   "source": []
  }
 ],
 "metadata": {
  "kernelspec": {
   "display_name": "Python 3 (ipykernel)",
   "language": "python",
   "name": "python3"
  },
  "language_info": {
   "codemirror_mode": {
    "name": "ipython",
    "version": 3
   },
   "file_extension": ".py",
   "mimetype": "text/x-python",
   "name": "python",
   "nbconvert_exporter": "python",
   "pygments_lexer": "ipython3",
   "version": "3.11.5"
  }
 },
 "nbformat": 4,
 "nbformat_minor": 5
}
