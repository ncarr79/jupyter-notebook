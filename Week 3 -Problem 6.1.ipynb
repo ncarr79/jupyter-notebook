{
 "cells": [
  {
   "cell_type": "code",
   "execution_count": 76,
   "id": "e1564492",
   "metadata": {},
   "outputs": [],
   "source": [
    "import dmba\n",
    "#Load the data\n",
    "housing_df = dmba.load_data('BostonHousing.csv')"
   ]
  },
  {
   "cell_type": "code",
   "execution_count": 42,
   "id": "e760727c",
   "metadata": {},
   "outputs": [
    {
     "name": "stdout",
     "output_type": "stream",
     "text": [
      "Variables in the data are: \n",
      "['CRIM', 'ZN', 'INDUS', 'CHAS', 'NOX', 'RM', 'AGE', 'DIS', 'RAD', 'TAX', 'PTRATIO', 'LSTAT', 'MEDV', 'CAT. MEDV']\n"
     ]
    }
   ],
   "source": [
    "#display column/variable names\n",
    "columns = list(housing_df.columns)\n",
    "print(\"Variables in the data are: \")\n",
    "print(columns)"
   ]
  },
  {
   "cell_type": "code",
   "execution_count": 43,
   "id": "a8a65506",
   "metadata": {},
   "outputs": [
    {
     "name": "stdout",
     "output_type": "stream",
     "text": [
      "\n",
      "First 5 records in the data are:\n"
     ]
    },
    {
     "data": {
      "text/html": [
       "<div>\n",
       "<style scoped>\n",
       "    .dataframe tbody tr th:only-of-type {\n",
       "        vertical-align: middle;\n",
       "    }\n",
       "\n",
       "    .dataframe tbody tr th {\n",
       "        vertical-align: top;\n",
       "    }\n",
       "\n",
       "    .dataframe thead th {\n",
       "        text-align: right;\n",
       "    }\n",
       "</style>\n",
       "<table border=\"1\" class=\"dataframe\">\n",
       "  <thead>\n",
       "    <tr style=\"text-align: right;\">\n",
       "      <th></th>\n",
       "      <th>CRIM</th>\n",
       "      <th>ZN</th>\n",
       "      <th>INDUS</th>\n",
       "      <th>CHAS</th>\n",
       "      <th>NOX</th>\n",
       "      <th>RM</th>\n",
       "      <th>AGE</th>\n",
       "      <th>DIS</th>\n",
       "      <th>RAD</th>\n",
       "      <th>TAX</th>\n",
       "      <th>PTRATIO</th>\n",
       "      <th>LSTAT</th>\n",
       "      <th>MEDV</th>\n",
       "      <th>CAT. MEDV</th>\n",
       "    </tr>\n",
       "  </thead>\n",
       "  <tbody>\n",
       "    <tr>\n",
       "      <th>0</th>\n",
       "      <td>0.00632</td>\n",
       "      <td>18.0</td>\n",
       "      <td>2.31</td>\n",
       "      <td>0</td>\n",
       "      <td>0.538</td>\n",
       "      <td>6.575</td>\n",
       "      <td>65.2</td>\n",
       "      <td>4.0900</td>\n",
       "      <td>1</td>\n",
       "      <td>296</td>\n",
       "      <td>15.3</td>\n",
       "      <td>4.98</td>\n",
       "      <td>24.0</td>\n",
       "      <td>0</td>\n",
       "    </tr>\n",
       "    <tr>\n",
       "      <th>1</th>\n",
       "      <td>0.02731</td>\n",
       "      <td>0.0</td>\n",
       "      <td>7.07</td>\n",
       "      <td>0</td>\n",
       "      <td>0.469</td>\n",
       "      <td>6.421</td>\n",
       "      <td>78.9</td>\n",
       "      <td>4.9671</td>\n",
       "      <td>2</td>\n",
       "      <td>242</td>\n",
       "      <td>17.8</td>\n",
       "      <td>9.14</td>\n",
       "      <td>21.6</td>\n",
       "      <td>0</td>\n",
       "    </tr>\n",
       "    <tr>\n",
       "      <th>2</th>\n",
       "      <td>0.02729</td>\n",
       "      <td>0.0</td>\n",
       "      <td>7.07</td>\n",
       "      <td>0</td>\n",
       "      <td>0.469</td>\n",
       "      <td>7.185</td>\n",
       "      <td>61.1</td>\n",
       "      <td>4.9671</td>\n",
       "      <td>2</td>\n",
       "      <td>242</td>\n",
       "      <td>17.8</td>\n",
       "      <td>4.03</td>\n",
       "      <td>34.7</td>\n",
       "      <td>1</td>\n",
       "    </tr>\n",
       "    <tr>\n",
       "      <th>3</th>\n",
       "      <td>0.03237</td>\n",
       "      <td>0.0</td>\n",
       "      <td>2.18</td>\n",
       "      <td>0</td>\n",
       "      <td>0.458</td>\n",
       "      <td>6.998</td>\n",
       "      <td>45.8</td>\n",
       "      <td>6.0622</td>\n",
       "      <td>3</td>\n",
       "      <td>222</td>\n",
       "      <td>18.7</td>\n",
       "      <td>2.94</td>\n",
       "      <td>33.4</td>\n",
       "      <td>1</td>\n",
       "    </tr>\n",
       "    <tr>\n",
       "      <th>4</th>\n",
       "      <td>0.06905</td>\n",
       "      <td>0.0</td>\n",
       "      <td>2.18</td>\n",
       "      <td>0</td>\n",
       "      <td>0.458</td>\n",
       "      <td>7.147</td>\n",
       "      <td>54.2</td>\n",
       "      <td>6.0622</td>\n",
       "      <td>3</td>\n",
       "      <td>222</td>\n",
       "      <td>18.7</td>\n",
       "      <td>5.33</td>\n",
       "      <td>36.2</td>\n",
       "      <td>1</td>\n",
       "    </tr>\n",
       "  </tbody>\n",
       "</table>\n",
       "</div>"
      ],
      "text/plain": [
       "      CRIM    ZN  INDUS  CHAS    NOX     RM   AGE     DIS  RAD  TAX  PTRATIO  \\\n",
       "0  0.00632  18.0   2.31     0  0.538  6.575  65.2  4.0900    1  296     15.3   \n",
       "1  0.02731   0.0   7.07     0  0.469  6.421  78.9  4.9671    2  242     17.8   \n",
       "2  0.02729   0.0   7.07     0  0.469  7.185  61.1  4.9671    2  242     17.8   \n",
       "3  0.03237   0.0   2.18     0  0.458  6.998  45.8  6.0622    3  222     18.7   \n",
       "4  0.06905   0.0   2.18     0  0.458  7.147  54.2  6.0622    3  222     18.7   \n",
       "\n",
       "   LSTAT  MEDV  CAT. MEDV  \n",
       "0   4.98  24.0          0  \n",
       "1   9.14  21.6          0  \n",
       "2   4.03  34.7          1  \n",
       "3   2.94  33.4          1  \n",
       "4   5.33  36.2          1  "
      ]
     },
     "execution_count": 43,
     "metadata": {},
     "output_type": "execute_result"
    }
   ],
   "source": [
    "#review first 5 records in the data\n",
    "print(\"\\nFirst 5 records in the data are:\")\n",
    "housing_df.head()"
   ]
  },
  {
   "cell_type": "code",
   "execution_count": 44,
   "id": "bf706e5e",
   "metadata": {},
   "outputs": [],
   "source": [
    "# select columns for regression analysis\n",
    "housing_df.columns\n",
    "outcome = 'MEDV'\n",
    "predictors = ['CRIM', 'CHAS', 'RM']\n",
    "\n",
    "x = housing_df[predictors]\n",
    "y = housing_df[outcome]"
   ]
  },
  {
   "cell_type": "code",
   "execution_count": 45,
   "id": "bfeba381",
   "metadata": {},
   "outputs": [
    {
     "name": "stdout",
     "output_type": "stream",
     "text": [
      "intercept -28.81068250635914\n",
      "  Predictor  coefficient\n",
      "0      CRIM    -0.260724\n",
      "1      CHAS     3.763037\n",
      "2        RM     8.278180\n"
     ]
    }
   ],
   "source": [
    "from sklearn.linear_model import LinearRegression\n",
    "# fit the regression model y on x\n",
    "housing_lm = LinearRegression()\n",
    "housing_lm.fit(x,y)\n",
    "\n",
    "# regression model, prinit coefficients\n",
    "print('intercept', housing_lm.intercept_)\n",
    "print(pd.DataFrame({'Predictor' : x.columns, 'coefficient' : housing_lm.coef_}))"
   ]
  },
  {
   "cell_type": "code",
   "execution_count": 46,
   "id": "2e0b7d3e",
   "metadata": {},
   "outputs": [
    {
     "data": {
      "text/html": [
       "<div>\n",
       "<style scoped>\n",
       "    .dataframe tbody tr th:only-of-type {\n",
       "        vertical-align: middle;\n",
       "    }\n",
       "\n",
       "    .dataframe tbody tr th {\n",
       "        vertical-align: top;\n",
       "    }\n",
       "\n",
       "    .dataframe thead th {\n",
       "        text-align: right;\n",
       "    }\n",
       "</style>\n",
       "<table border=\"1\" class=\"dataframe\">\n",
       "  <thead>\n",
       "    <tr style=\"text-align: right;\">\n",
       "      <th></th>\n",
       "      <th>CRIM</th>\n",
       "      <th>CHAS</th>\n",
       "      <th>RM</th>\n",
       "    </tr>\n",
       "  </thead>\n",
       "  <tbody>\n",
       "    <tr>\n",
       "      <th>0</th>\n",
       "      <td>0.1</td>\n",
       "      <td>0</td>\n",
       "      <td>6</td>\n",
       "    </tr>\n",
       "  </tbody>\n",
       "</table>\n",
       "</div>"
      ],
      "text/plain": [
       "   CRIM  CHAS  RM\n",
       "0   0.1     0   6"
      ]
     },
     "execution_count": 46,
     "metadata": {},
     "output_type": "execute_result"
    }
   ],
   "source": [
    "new_df = pd.DataFrame(\n",
    "    [[0.1, 0, 6]],\n",
    "    columns=['CRIM', 'CHAS', 'RM'])\n",
    "new_df"
   ]
  },
  {
   "cell_type": "code",
   "execution_count": 47,
   "id": "273b518f",
   "metadata": {},
   "outputs": [
    {
     "name": "stdout",
     "output_type": "stream",
     "text": [
      "Predicted value for median house price based on the model built using dataset is: [20.83232392]\n"
     ]
    }
   ],
   "source": [
    "housing_lm_pred = housing_lm.predict(new_df)\n",
    "print('Predicted value for median house price based on the model built using dataset is:', housing_lm_pred)"
   ]
  },
  {
   "cell_type": "code",
   "execution_count": 48,
   "id": "570d728c",
   "metadata": {},
   "outputs": [
    {
     "data": {
      "text/plain": [
       "Index(['CRIM', 'ZN', 'INDUS', 'CHAS', 'NOX', 'RM', 'AGE', 'DIS', 'RAD', 'TAX',\n",
       "       'PTRATIO', 'LSTAT', 'MEDV', 'CAT. MEDV'],\n",
       "      dtype='object')"
      ]
     },
     "execution_count": 48,
     "metadata": {},
     "output_type": "execute_result"
    }
   ],
   "source": [
    "#variables in the data\n",
    "housing_df.columns"
   ]
  },
  {
   "cell_type": "code",
   "execution_count": 49,
   "id": "c731f71a",
   "metadata": {},
   "outputs": [
    {
     "data": {
      "text/plain": [
       "Index(['CRIM', 'ZN', 'INDUS', 'NOX', 'RM', 'AGE', 'DIS', 'RAD', 'TAX',\n",
       "       'PTRATIO', 'LSTAT'],\n",
       "      dtype='object')"
      ]
     },
     "execution_count": 49,
     "metadata": {},
     "output_type": "execute_result"
    }
   ],
   "source": [
    "#Create a new dataframe with predictors\n",
    "predictors_df = housing_df\n",
    "columns = list(housing_df.columns)\n",
    "columns.remove('CHAS')\n",
    "columns.remove('MEDV')\n",
    "columns.remove('CAT. MEDV')\n",
    "predictors_df = predictors_df[columns]\n",
    "predictors_df.columns"
   ]
  },
  {
   "cell_type": "code",
   "execution_count": 50,
   "id": "3ba4dac0",
   "metadata": {},
   "outputs": [
    {
     "data": {
      "image/png": "[encoded data removed]",
      "text/plain": [
       "<Figure size 640x480 with 2 Axes>"
      ]
     },
     "metadata": {},
     "output_type": "display_data"
    }
   ],
   "source": [
    "import seaborn as sns\n",
    "corr = predictors_df.corr()\n",
    "_ = sns.heatmap(corr, xticklabels=corr.columns, yticklabels=corr.columns, vmin=-1, vmax=1,\n",
    "               cmap=\"RdBu\")"
   ]
  },
  {
   "cell_type": "code",
   "execution_count": 51,
   "id": "6567f8b8",
   "metadata": {},
   "outputs": [
    {
     "data": {
      "text/html": [
       "<div>\n",
       "<style scoped>\n",
       "    .dataframe tbody tr th:only-of-type {\n",
       "        vertical-align: middle;\n",
       "    }\n",
       "\n",
       "    .dataframe tbody tr th {\n",
       "        vertical-align: top;\n",
       "    }\n",
       "\n",
       "    .dataframe thead th {\n",
       "        text-align: right;\n",
       "    }\n",
       "</style>\n",
       "<table border=\"1\" class=\"dataframe\">\n",
       "  <thead>\n",
       "    <tr style=\"text-align: right;\">\n",
       "      <th></th>\n",
       "      <th>CRIM</th>\n",
       "      <th>ZN</th>\n",
       "      <th>INDUS</th>\n",
       "      <th>NOX</th>\n",
       "      <th>RM</th>\n",
       "      <th>AGE</th>\n",
       "      <th>DIS</th>\n",
       "      <th>RAD</th>\n",
       "      <th>TAX</th>\n",
       "      <th>PTRATIO</th>\n",
       "      <th>LSTAT</th>\n",
       "    </tr>\n",
       "  </thead>\n",
       "  <tbody>\n",
       "    <tr>\n",
       "      <th>CRIM</th>\n",
       "      <td>1.000000</td>\n",
       "      <td>-0.200469</td>\n",
       "      <td>0.406583</td>\n",
       "      <td>0.420972</td>\n",
       "      <td>-0.219247</td>\n",
       "      <td>0.352734</td>\n",
       "      <td>-0.379670</td>\n",
       "      <td>0.625505</td>\n",
       "      <td>0.582764</td>\n",
       "      <td>0.289946</td>\n",
       "      <td>0.455621</td>\n",
       "    </tr>\n",
       "    <tr>\n",
       "      <th>ZN</th>\n",
       "      <td>-0.200469</td>\n",
       "      <td>1.000000</td>\n",
       "      <td>-0.533828</td>\n",
       "      <td>-0.516604</td>\n",
       "      <td>0.311991</td>\n",
       "      <td>-0.569537</td>\n",
       "      <td>0.664408</td>\n",
       "      <td>-0.311948</td>\n",
       "      <td>-0.314563</td>\n",
       "      <td>-0.391679</td>\n",
       "      <td>-0.412995</td>\n",
       "    </tr>\n",
       "    <tr>\n",
       "      <th>INDUS</th>\n",
       "      <td>0.406583</td>\n",
       "      <td>-0.533828</td>\n",
       "      <td>1.000000</td>\n",
       "      <td>0.763651</td>\n",
       "      <td>-0.391676</td>\n",
       "      <td>0.644779</td>\n",
       "      <td>-0.708027</td>\n",
       "      <td>0.595129</td>\n",
       "      <td>0.720760</td>\n",
       "      <td>0.383248</td>\n",
       "      <td>0.603800</td>\n",
       "    </tr>\n",
       "    <tr>\n",
       "      <th>NOX</th>\n",
       "      <td>0.420972</td>\n",
       "      <td>-0.516604</td>\n",
       "      <td>0.763651</td>\n",
       "      <td>1.000000</td>\n",
       "      <td>-0.302188</td>\n",
       "      <td>0.731470</td>\n",
       "      <td>-0.769230</td>\n",
       "      <td>0.611441</td>\n",
       "      <td>0.668023</td>\n",
       "      <td>0.188933</td>\n",
       "      <td>0.590879</td>\n",
       "    </tr>\n",
       "    <tr>\n",
       "      <th>RM</th>\n",
       "      <td>-0.219247</td>\n",
       "      <td>0.311991</td>\n",
       "      <td>-0.391676</td>\n",
       "      <td>-0.302188</td>\n",
       "      <td>1.000000</td>\n",
       "      <td>-0.240265</td>\n",
       "      <td>0.205246</td>\n",
       "      <td>-0.209847</td>\n",
       "      <td>-0.292048</td>\n",
       "      <td>-0.355501</td>\n",
       "      <td>-0.613808</td>\n",
       "    </tr>\n",
       "    <tr>\n",
       "      <th>AGE</th>\n",
       "      <td>0.352734</td>\n",
       "      <td>-0.569537</td>\n",
       "      <td>0.644779</td>\n",
       "      <td>0.731470</td>\n",
       "      <td>-0.240265</td>\n",
       "      <td>1.000000</td>\n",
       "      <td>-0.747881</td>\n",
       "      <td>0.456022</td>\n",
       "      <td>0.506456</td>\n",
       "      <td>0.261515</td>\n",
       "      <td>0.602339</td>\n",
       "    </tr>\n",
       "    <tr>\n",
       "      <th>DIS</th>\n",
       "      <td>-0.379670</td>\n",
       "      <td>0.664408</td>\n",
       "      <td>-0.708027</td>\n",
       "      <td>-0.769230</td>\n",
       "      <td>0.205246</td>\n",
       "      <td>-0.747881</td>\n",
       "      <td>1.000000</td>\n",
       "      <td>-0.494588</td>\n",
       "      <td>-0.534432</td>\n",
       "      <td>-0.232471</td>\n",
       "      <td>-0.496996</td>\n",
       "    </tr>\n",
       "    <tr>\n",
       "      <th>RAD</th>\n",
       "      <td>0.625505</td>\n",
       "      <td>-0.311948</td>\n",
       "      <td>0.595129</td>\n",
       "      <td>0.611441</td>\n",
       "      <td>-0.209847</td>\n",
       "      <td>0.456022</td>\n",
       "      <td>-0.494588</td>\n",
       "      <td>1.000000</td>\n",
       "      <td>0.910228</td>\n",
       "      <td>0.464741</td>\n",
       "      <td>0.488676</td>\n",
       "    </tr>\n",
       "    <tr>\n",
       "      <th>TAX</th>\n",
       "      <td>0.582764</td>\n",
       "      <td>-0.314563</td>\n",
       "      <td>0.720760</td>\n",
       "      <td>0.668023</td>\n",
       "      <td>-0.292048</td>\n",
       "      <td>0.506456</td>\n",
       "      <td>-0.534432</td>\n",
       "      <td>0.910228</td>\n",
       "      <td>1.000000</td>\n",
       "      <td>0.460853</td>\n",
       "      <td>0.543993</td>\n",
       "    </tr>\n",
       "    <tr>\n",
       "      <th>PTRATIO</th>\n",
       "      <td>0.289946</td>\n",
       "      <td>-0.391679</td>\n",
       "      <td>0.383248</td>\n",
       "      <td>0.188933</td>\n",
       "      <td>-0.355501</td>\n",
       "      <td>0.261515</td>\n",
       "      <td>-0.232471</td>\n",
       "      <td>0.464741</td>\n",
       "      <td>0.460853</td>\n",
       "      <td>1.000000</td>\n",
       "      <td>0.374044</td>\n",
       "    </tr>\n",
       "    <tr>\n",
       "      <th>LSTAT</th>\n",
       "      <td>0.455621</td>\n",
       "      <td>-0.412995</td>\n",
       "      <td>0.603800</td>\n",
       "      <td>0.590879</td>\n",
       "      <td>-0.613808</td>\n",
       "      <td>0.602339</td>\n",
       "      <td>-0.496996</td>\n",
       "      <td>0.488676</td>\n",
       "      <td>0.543993</td>\n",
       "      <td>0.374044</td>\n",
       "      <td>1.000000</td>\n",
       "    </tr>\n",
       "  </tbody>\n",
       "</table>\n",
       "</div>"
      ],
      "text/plain": [
       "             CRIM        ZN     INDUS       NOX        RM       AGE       DIS  \\\n",
       "CRIM     1.000000 -0.200469  0.406583  0.420972 -0.219247  0.352734 -0.379670   \n",
       "ZN      -0.200469  1.000000 -0.533828 -0.516604  0.311991 -0.569537  0.664408   \n",
       "INDUS    0.406583 -0.533828  1.000000  0.763651 -0.391676  0.644779 -0.708027   \n",
       "NOX      0.420972 -0.516604  0.763651  1.000000 -0.302188  0.731470 -0.769230   \n",
       "RM      -0.219247  0.311991 -0.391676 -0.302188  1.000000 -0.240265  0.205246   \n",
       "AGE      0.352734 -0.569537  0.644779  0.731470 -0.240265  1.000000 -0.747881   \n",
       "DIS     -0.379670  0.664408 -0.708027 -0.769230  0.205246 -0.747881  1.000000   \n",
       "RAD      0.625505 -0.311948  0.595129  0.611441 -0.209847  0.456022 -0.494588   \n",
       "TAX      0.582764 -0.314563  0.720760  0.668023 -0.292048  0.506456 -0.534432   \n",
       "PTRATIO  0.289946 -0.391679  0.383248  0.188933 -0.355501  0.261515 -0.232471   \n",
       "LSTAT    0.455621 -0.412995  0.603800  0.590879 -0.613808  0.602339 -0.496996   \n",
       "\n",
       "              RAD       TAX   PTRATIO     LSTAT  \n",
       "CRIM     0.625505  0.582764  0.289946  0.455621  \n",
       "ZN      -0.311948 -0.314563 -0.391679 -0.412995  \n",
       "INDUS    0.595129  0.720760  0.383248  0.603800  \n",
       "NOX      0.611441  0.668023  0.188933  0.590879  \n",
       "RM      -0.209847 -0.292048 -0.355501 -0.613808  \n",
       "AGE      0.456022  0.506456  0.261515  0.602339  \n",
       "DIS     -0.494588 -0.534432 -0.232471 -0.496996  \n",
       "RAD      1.000000  0.910228  0.464741  0.488676  \n",
       "TAX      0.910228  1.000000  0.460853  0.543993  \n",
       "PTRATIO  0.464741  0.460853  1.000000  0.374044  \n",
       "LSTAT    0.488676  0.543993  0.374044  1.000000  "
      ]
     },
     "execution_count": 51,
     "metadata": {},
     "output_type": "execute_result"
    }
   ],
   "source": [
    "#correlation table\n",
    "corr"
   ]
  },
  {
   "cell_type": "code",
   "execution_count": 52,
   "id": "98ce85e1",
   "metadata": {},
   "outputs": [],
   "source": [
    "# partition the data into training (60%) and validation (40%) sets\n",
    "predictors = ['CRIM', 'ZN', 'INDUS', 'CHAS', 'NOX', 'RM', 'AGE', 'DIS', 'RAD', 'TAX', 'PTRATIO', 'LSTAT']\n",
    "outcome = 'MEDV'"
   ]
  },
  {
   "cell_type": "code",
   "execution_count": 53,
   "id": "59ecbb6a",
   "metadata": {},
   "outputs": [
    {
     "name": "stdout",
     "output_type": "stream",
     "text": [
      "Training set: (303, 12) Validation set (203, 12)\n"
     ]
    }
   ],
   "source": [
    "# partition the data\n",
    "from sklearn.model_selection import train_test_split\n",
    "X = pd.get_dummies(housing_df[predictors], drop_first=True)\n",
    "y = housing_df[outcome]\n",
    "train_X, valid_X, train_y, valid_y, = train_test_split(X, y, test_size=0.4, random_state=1)\n",
    "print('Training set:', train_X.shape, 'Validation set', valid_X.shape)"
   ]
  },
  {
   "cell_type": "code",
   "execution_count": 63,
   "id": "8766e245",
   "metadata": {},
   "outputs": [
    {
     "name": "stdout",
     "output_type": "stream",
     "text": [
      "Variables: CRIM, ZN, INDUS, CHAS, NOX, RM, AGE, DIS, RAD, TAX, PTRATIO, LSTAT\n",
      "Start: score=1807.23\n",
      "Step: score=1805.30, remove AGE\n",
      "Step: score=1803.57, remove INDUS\n",
      "Step: score=1803.57, remove None\n",
      "Best Subset: ['CRIM', 'ZN', 'CHAS', 'NOX', 'RM', 'DIS', 'RAD', 'TAX', 'PTRATIO', 'LSTAT']\n"
     ]
    }
   ],
   "source": [
    "#backward elimination\n",
    "import dmba\n",
    "from dmba import regressionSummary, exhaustive_search\n",
    "from dmba import backward_elimination, forward_selection, stepwise_selection\n",
    "from dmba import adjusted_r2_score, AIC_score, BIC_score\n",
    "\n",
    "\n",
    "def train_model(variables):\n",
    "    model = LinearRegression()\n",
    "    model.fit(train_X[variables], train_y)\n",
    "    return model\n",
    "\n",
    "def score_model(model, variables):\n",
    "    return AIC_score(train_y, model.predict(train_X[variables]), model)\n",
    "\n",
    "best_model, best_variables = backward_elimination(train_X.columns, train_model, score_model, verbose = True)\n",
    "print(\"Best Subset:\", best_variables)"
   ]
  },
  {
   "cell_type": "code",
   "execution_count": 66,
   "id": "6b1e9fd7",
   "metadata": {},
   "outputs": [
    {
     "name": "stdout",
     "output_type": "stream",
     "text": [
      "Variables: CRIM, ZN, INDUS, CHAS, NOX, RM, AGE, DIS, RAD, TAX, PTRATIO, LSTAT\n",
      "Start: score=2191.75, constant\n",
      "Step: score=1934.91, add LSTAT\n",
      "Step: score=1874.18, add RM\n",
      "Step: score=1842.54, add PTRATIO\n",
      "Step: score=1837.69, add CHAS\n",
      "Step: score=1835.00, add NOX\n",
      "Step: score=1817.90, add DIS\n",
      "Step: score=1811.82, add ZN\n",
      "Step: score=1810.16, add CRIM\n",
      "Step: score=1808.01, add RAD\n",
      "Step: score=1803.57, add TAX\n",
      "Step: score=1803.57, add None\n",
      "Best Subset: ['LSTAT', 'RM', 'PTRATIO', 'CHAS', 'NOX', 'DIS', 'ZN', 'CRIM', 'RAD', 'TAX']\n"
     ]
    }
   ],
   "source": [
    "# forward selection\n",
    "\n",
    "def train_model(variables):\n",
    "    if len(variables) == 0:\n",
    "        return None\n",
    "    model = LinearRegression()\n",
    "    model.fit(train_X[variables], train_y)\n",
    "    return model\n",
    "\n",
    "def score_model(model, variables):\n",
    "    if len(variables) == 0:\n",
    "        return AIC_score(train_y, [train_y.mean()] * len(train_y), model, df=1)\n",
    "    return AIC_score(train_y, model.predict(train_X[variables]), model)\n",
    "\n",
    "best_model, best_variables = forward_selection(train_X.columns, train_model, score_model, verbose = True)\n",
    "print(\"Best Subset:\", best_variables)"
   ]
  },
  {
   "cell_type": "code",
   "execution_count": 67,
   "id": "449ddfbb",
   "metadata": {},
   "outputs": [
    {
     "name": "stdout",
     "output_type": "stream",
     "text": [
      "Variables: CRIM, ZN, INDUS, CHAS, NOX, RM, AGE, DIS, RAD, TAX, PTRATIO, LSTAT\n",
      "Start: score=2191.75, constant\n",
      "Step: score=1934.91, add LSTAT\n",
      "Step: score=1874.18, add RM\n",
      "Step: score=1842.54, add PTRATIO\n",
      "Step: score=1837.69, add CHAS\n",
      "Step: score=1835.00, add NOX\n",
      "Step: score=1817.90, add DIS\n",
      "Step: score=1811.82, add ZN\n",
      "Step: score=1810.16, add CRIM\n",
      "Step: score=1808.01, add RAD\n",
      "Step: score=1803.57, add TAX\n",
      "Step: score=1803.57, unchanged None\n",
      "Best Subset: ['LSTAT', 'RM', 'PTRATIO', 'CHAS', 'NOX', 'DIS', 'ZN', 'CRIM', 'RAD', 'TAX']\n"
     ]
    }
   ],
   "source": [
    "# stepwise (both) method\n",
    "best_model, best_variables, = stepwise_selection(train_X.columns, train_model, score_model, verbose=True)\n",
    "print(\"Best Subset:\", best_variables)"
   ]
  },
  {
   "cell_type": "code",
   "execution_count": 68,
   "id": "c3f9c38a",
   "metadata": {},
   "outputs": [],
   "source": [
    "# fit the model with best subset variables\n",
    "outcome = 'MEDV'\n",
    "predictors = ['LSTAT', 'RM', 'PTRATIO', 'CHAS', 'NOX', 'DIS', 'ZN', 'CRIM', 'RAD', 'TAX']\n",
    "\n",
    "X = train_X[predictors]\n",
    "y = train_y"
   ]
  },
  {
   "cell_type": "code",
   "execution_count": 72,
   "id": "52a92eca",
   "metadata": {},
   "outputs": [
    {
     "name": "stdout",
     "output_type": "stream",
     "text": [
      "intercept 38.956156498282255\n",
      "  Predictor  coefficient\n",
      "0     LSTAT    -0.514444\n",
      "1        RM     3.480964\n",
      "2   PTRATIO    -0.804964\n",
      "3      CHAS     2.359986\n",
      "4       NOX   -17.866926\n",
      "5       DIS    -1.438596\n",
      "6        ZN     0.066221\n",
      "7      CRIM    -0.114137\n",
      "8       RAD     0.262455\n",
      "9       TAX    -0.011166\n"
     ]
    }
   ],
   "source": [
    "#fit the regression model y on X\n",
    "house_lm = LinearRegression()\n",
    "house_lm.fit(X,y)\n",
    "\n",
    "#regression model, print coefficients\n",
    "print('intercept', house_lm.intercept_)\n",
    "print(pd.DataFrame({'Predictor': X.columns, 'coefficient': house_lm.coef_}))"
   ]
  },
  {
   "cell_type": "code",
   "execution_count": 73,
   "id": "a2ac9e8c",
   "metadata": {},
   "outputs": [
    {
     "name": "stdout",
     "output_type": "stream",
     "text": [
      "\n",
      "Model performance on training data:\n",
      "\n",
      "Regression statistics\n",
      "\n",
      "                      Mean Error (ME) : -0.0000\n",
      "       Root Mean Squared Error (RMSE) : 4.5615\n",
      "            Mean Absolute Error (MAE) : 3.1662\n",
      "          Mean Percentage Error (MPE) : -3.4181\n",
      "Mean Absolute Percentage Error (MAPE) : 16.4898\n"
     ]
    }
   ],
   "source": [
    "print(\"\\nModel performance on training data:\")\n",
    "regressionSummary(train_y, house_lm.predict(train_X[predictors]))"
   ]
  },
  {
   "cell_type": "code",
   "execution_count": 75,
   "id": "aa8584c0",
   "metadata": {},
   "outputs": [
    {
     "name": "stdout",
     "output_type": "stream",
     "text": [
      "\n",
      "Model performance on validation data\n",
      "\n",
      "Regression statistics\n",
      "\n",
      "                      Mean Error (ME) : -0.0393\n",
      "       Root Mean Squared Error (RMSE) : 5.0771\n",
      "            Mean Absolute Error (MAE) : 3.5746\n",
      "          Mean Percentage Error (MPE) : -5.1561\n",
      "Mean Absolute Percentage Error (MAPE) : 16.9733\n"
     ]
    }
   ],
   "source": [
    "#predict process in validation set, print first few predictede/actual values and residuals\n",
    "house_lm_pred = house_lm.predict(valid_X[predictors])\n",
    "result = pd.DataFrame({'Predicted': house_lm_pred, 'Actual': valid_y, 'Residual': valid_y - house_lm_pred})\n",
    "\n",
    "#print performance measures (validation set)\n",
    "print(\"\\nModel performance on validation data\")\n",
    "regressionSummary(valid_y, house_lm_pred)"
   ]
  },
  {
   "cell_type": "code",
   "execution_count": null,
   "id": "962ceddb",
   "metadata": {},
   "outputs": [],
   "source": []
  }
 ],
 "metadata": {
  "kernelspec": {
   "display_name": "Python 3 (ipykernel)",
   "language": "python",
   "name": "python3"
  },
  "language_info": {
   "codemirror_mode": {
    "name": "ipython",
    "version": 3
   },
   "file_extension": ".py",
   "mimetype": "text/x-python",
   "name": "python",
   "nbconvert_exporter": "python",
   "pygments_lexer": "ipython3",
   "version": "3.11.5"
  }
 },
 "nbformat": 4,
 "nbformat_minor": 5
}
