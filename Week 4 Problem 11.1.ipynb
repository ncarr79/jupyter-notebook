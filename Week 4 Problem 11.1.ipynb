{
 "cells": [
  {
   "cell_type": "code",
   "execution_count": 9,
   "id": "d3c86730",
   "metadata": {},
   "outputs": [],
   "source": [
    "import pandas as pd\n",
    "from sklearn.model_selection import train_test_split\n",
    "from sklearn.neural_network import MLPClassifier\n",
    "from dmba import classificationSummary\n",
    "import numpy as np\n"
   ]
  },
  {
   "cell_type": "code",
   "execution_count": 10,
   "id": "58cb5aed",
   "metadata": {},
   "outputs": [],
   "source": [
    "#create a data frame of data provided\n",
    "card_df = pd.DataFrame({\n",
    "    'Years': [4, 18, 1, 3, 15, 6],\n",
    "    'Salary':[43, 65, 53, 95, 88, 112],\n",
    "    'Used_credit':[0, 1, 0, 0, 1, 1],\n",
    "})\n"
   ]
  },
  {
   "cell_type": "code",
   "execution_count": 11,
   "id": "c3bed0d8",
   "metadata": {},
   "outputs": [
    {
     "name": "stdout",
     "output_type": "stream",
     "text": [
      "   Years  Salary  Used_credit\n",
      "0      4      43            0\n",
      "1     18      65            1\n",
      "2      1      53            0\n",
      "3      3      95            0\n",
      "4     15      88            1\n",
      "5      6     112            1\n",
      "0    0\n",
      "1    1\n",
      "2    0\n",
      "3    0\n",
      "4    1\n",
      "5    1\n",
      "Name: Used_credit, dtype: int64\n",
      "[[  4  43]\n",
      " [ 18  65]\n",
      " [  1  53]\n",
      " [  3  95]\n",
      " [ 15  88]\n",
      " [  6 112]]\n",
      "[0 1 0 0 1 1]\n"
     ]
    },
    {
     "data": {
      "text/plain": [
       "(None, None)"
      ]
     },
     "execution_count": 11,
     "metadata": {},
     "output_type": "execute_result"
    }
   ],
   "source": [
    "predictors_df = card_df.drop(columns=['Used_credit'])\n",
    "response_df = card_df.Used_credit\n",
    "\n",
    "X = np.array(predictors_df)\n",
    "y = np.array(response_df)\n",
    "print(card_df)\n",
    "print(response_df)\n",
    "print(X), print(y)"
   ]
  },
  {
   "cell_type": "code",
   "execution_count": 18,
   "id": "04e0fcd5",
   "metadata": {},
   "outputs": [
    {
     "name": "stdout",
     "output_type": "stream",
     "text": [
      "Hidden layer 2 => 3\n",
      " Intercepts:\n",
      "  [-0.39685328 -0.19535194 -0.13057996]\n",
      " Weights: \n",
      "  [-0.10494688  0.27865319 -0.63222532]\n",
      "  [-0.2500133  -0.44676191 -0.51558567]\n",
      "\n",
      "Output layer 3 => 1\n",
      " Intercepts:\n",
      "  [2.33295553e-05]\n",
      " Weights: \n",
      "  [0.05488134]\n",
      "  [-0.11426076]\n",
      "  [0.2619045]\n",
      "\n"
     ]
    }
   ],
   "source": [
    "# Multi-layer Perceptron classifier\n",
    "clf = MLPClassifier(hidden_layer_sizes=(3), activation='logistic', solver='lbfgs', random_state=1)\n",
    "clf.fit(X, y)\n",
    "\n",
    "#Network Structure\n",
    "\n",
    "for i, (weights, intercepts) in enumerate(zip(clf.coefs_, clf.intercepts_)):\n",
    "    print('Hidden layer' if i == 0 else 'Output layer', '{0[0]} => {0[1]}' .format(weights.shape))\n",
    "    print(' Intercepts:\\n ', intercepts)\n",
    "    print(' Weights: ')\n",
    "    for weight in weights:\n",
    "        print(' ', weight)\n",
    "    print() "
   ]
  },
  {
   "cell_type": "code",
   "execution_count": 19,
   "id": "f0c2b5d3",
   "metadata": {},
   "outputs": [
    {
     "name": "stdout",
     "output_type": "stream",
     "text": [
      "   Years  Salary  Used_credit         0         1\n",
      "0      4      43            0  0.499994  0.500006\n",
      "1     18      65            1  0.499994  0.500006\n",
      "2      1      53            0  0.499994  0.500006\n",
      "3      3      95            0  0.499994  0.500006\n",
      "4     15      88            1  0.499994  0.500006\n",
      "5      6     112            1  0.499994  0.500006\n"
     ]
    }
   ],
   "source": [
    "# Predictions\n",
    "print(pd.concat([\n",
    "    card_df,\n",
    "    pd.DataFrame(clf.predict_proba(X), columns=[0, 1])\n",
    "], axis=1))"
   ]
  },
  {
   "cell_type": "code",
   "execution_count": null,
   "id": "065c52ab",
   "metadata": {},
   "outputs": [],
   "source": []
  }
 ],
 "metadata": {
  "kernelspec": {
   "display_name": "Python 3 (ipykernel)",
   "language": "python",
   "name": "python3"
  },
  "language_info": {
   "codemirror_mode": {
    "name": "ipython",
    "version": 3
   },
   "file_extension": ".py",
   "mimetype": "text/x-python",
   "name": "python",
   "nbconvert_exporter": "python",
   "pygments_lexer": "ipython3",
   "version": "3.11.5"
  }
 },
 "nbformat": 4,
 "nbformat_minor": 5
}
